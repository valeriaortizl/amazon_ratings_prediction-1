{
 "cells": [
  {
   "cell_type": "markdown",
   "source": [
    "# How can we predict the sentiment associated with a customer interaction?"
   ],
   "metadata": {}
  },
  {
   "cell_type": "code",
   "execution_count": 1,
   "source": [
    "import os\r\n",
    "from collections import Counter\r\n",
    "\r\n",
    "import matplotlib.pyplot as plt\r\n",
    "import nltk\r\n",
    "import numpy as np\r\n",
    "import pandas as pd\r\n",
    "\r\n",
    "from pylab import rcParams\r\n",
    "from wordcloud import WordCloud\r\n",
    "from nltk import word_tokenize\r\n",
    "\r\n",
    "from sklearn.feature_extraction.text import CountVectorizer\r\n",
    "from sklearn.model_selection import train_test_split\r\n",
    "from sklearn.linear_model import LogisticRegression\r\n",
    "from sklearn.metrics import accuracy_score\r\n",
    "from sklearn.metrics import f1_score\r\n",
    "from sklearn.ensemble import RandomForestClassifier\r\n",
    "from sklearn.feature_extraction.text import TfidfVectorizer\r\n",
    "\r\n",
    "rcParams['figure.figsize'] = 30, 60\r\n",
    "%matplotlib inline"
   ],
   "outputs": [],
   "metadata": {}
  },
  {
   "cell_type": "markdown",
   "source": [
    "## Goals\n",
    "\n",
    "After working through this case, you should be able to apply sentiment analysis to business problems. You will understand how to use text classification techniques to build a sentiment analysis model, and you'll be able to apply sentiment models to real-world data.\n",
    "\n",
    "You will have gained experience using a number of different vectorization and model-building techniques, using popular Python libraries such as [scikit-learn](https://scikit-learn.org/stable/) and [gensim](https://github.com/RaRe-Technologies/gensim). You'll have used both count-based vectorizations and word embeddings, and you'll understand the pros and cons of each."
   ],
   "metadata": {
    "tags": [
     "3_min"
    ]
   }
  },
  {
   "cell_type": "markdown",
   "source": [
    "## Introduction\n",
    "\n",
    "**Business Context.** You are a data scientist for a large e-commerce firm. You have tens of thousands of customers writing reviews on products each day. Each review contains textual feedback along with a 1-to-5 star rating system (1 being least satisfied and 5 being most satisfied). You also have a customer support team which interacts with customers over call and messaging services. Your company also collects feedback about your customers' experiences with the website interaction after each purchase. Neither this feedback nor the messaging service have a rating number. The firm wants to quantify customer satisfaction coming from these non-rated interactions in order to help with further business decisions (e.g. determine how well your various customer service agents are doing).\n",
    "\n",
    "**Business Problem.** Your task is to **build models which can identify the sentiment (positive or negative) of each of these non-rated interactions**.\n",
    "\n",
    "**Analytical Context.** The data is a set of reviews in CSV file format. We will combine what we learned about text processing and classification models to develop algorithms capable of classifying interactions by sentiment.\n",
    "\n",
    "The case is structured as follows: you will 1) read and analyze the input text data and the corresponding response variables (ratings); 2) perform basic pre-processing to prepare the data for modeling; 3) learn and apply various ways of featurizing the reviews text; and finally 4) build machine learning models to classify text as either exhibiting positive or negative sentiment (1 or 0)."
   ],
   "metadata": {
    "tags": [
     "5_min"
    ]
   }
  },
  {
   "cell_type": "markdown",
   "source": [
    "## Reading and performing basic analysis of the data\n",
    "\n",
    "As usual the first step is to read the available data and perform some high-level analysis on it:"
   ],
   "metadata": {
    "tags": [
     "15_min"
    ]
   }
  },
  {
   "cell_type": "code",
   "execution_count": 2,
   "source": [
    "amazon_reviews = pd.read_csv('Reviews.csv')\r\n",
    "\r\n",
    "# Selecting just 10,000 records for faster computation. \r\n",
    "# Feel free to comment the following line of code later, to build ML models using all the data.\r\n",
    "\r\n",
    "amazon_reviews = amazon_reviews[:10000]\r\n",
    "amazon_reviews.head()"
   ],
   "outputs": [
    {
     "output_type": "execute_result",
     "data": {
      "text/plain": [
       "   Id   ProductId          UserId                      ProfileName  \\\n",
       "0   1  B001E4KFG0  A3SGXH7AUHU8GW                       delmartian   \n",
       "1   2  B00813GRG4  A1D87F6ZCVE5NK                           dll pa   \n",
       "2   3  B000LQOCH0   ABXLMWJIXXAIN  Natalia Corres \"Natalia Corres\"   \n",
       "3   4  B000UA0QIQ  A395BORC6FGVXV                             Karl   \n",
       "4   5  B006K2ZZ7K  A1UQRSCLF8GW1T    Michael D. Bigham \"M. Wassir\"   \n",
       "\n",
       "   HelpfulnessNumerator  HelpfulnessDenominator  Score        Time  \\\n",
       "0                     1                       1      5  1303862400   \n",
       "1                     0                       0      1  1346976000   \n",
       "2                     1                       1      4  1219017600   \n",
       "3                     3                       3      2  1307923200   \n",
       "4                     0                       0      5  1350777600   \n",
       "\n",
       "                 Summary                                               Text  \n",
       "0  Good Quality Dog Food  I have bought several of the Vitality canned d...  \n",
       "1      Not as Advertised  Product arrived labeled as Jumbo Salted Peanut...  \n",
       "2  \"Delight\" says it all  This is a confection that has been around a fe...  \n",
       "3         Cough Medicine  If you are looking for the secret ingredient i...  \n",
       "4            Great taffy  Great taffy at a great price.  There was a wid...  "
      ],
      "text/html": [
       "<div>\n",
       "<style scoped>\n",
       "    .dataframe tbody tr th:only-of-type {\n",
       "        vertical-align: middle;\n",
       "    }\n",
       "\n",
       "    .dataframe tbody tr th {\n",
       "        vertical-align: top;\n",
       "    }\n",
       "\n",
       "    .dataframe thead th {\n",
       "        text-align: right;\n",
       "    }\n",
       "</style>\n",
       "<table border=\"1\" class=\"dataframe\">\n",
       "  <thead>\n",
       "    <tr style=\"text-align: right;\">\n",
       "      <th></th>\n",
       "      <th>Id</th>\n",
       "      <th>ProductId</th>\n",
       "      <th>UserId</th>\n",
       "      <th>ProfileName</th>\n",
       "      <th>HelpfulnessNumerator</th>\n",
       "      <th>HelpfulnessDenominator</th>\n",
       "      <th>Score</th>\n",
       "      <th>Time</th>\n",
       "      <th>Summary</th>\n",
       "      <th>Text</th>\n",
       "    </tr>\n",
       "  </thead>\n",
       "  <tbody>\n",
       "    <tr>\n",
       "      <th>0</th>\n",
       "      <td>1</td>\n",
       "      <td>B001E4KFG0</td>\n",
       "      <td>A3SGXH7AUHU8GW</td>\n",
       "      <td>delmartian</td>\n",
       "      <td>1</td>\n",
       "      <td>1</td>\n",
       "      <td>5</td>\n",
       "      <td>1303862400</td>\n",
       "      <td>Good Quality Dog Food</td>\n",
       "      <td>I have bought several of the Vitality canned d...</td>\n",
       "    </tr>\n",
       "    <tr>\n",
       "      <th>1</th>\n",
       "      <td>2</td>\n",
       "      <td>B00813GRG4</td>\n",
       "      <td>A1D87F6ZCVE5NK</td>\n",
       "      <td>dll pa</td>\n",
       "      <td>0</td>\n",
       "      <td>0</td>\n",
       "      <td>1</td>\n",
       "      <td>1346976000</td>\n",
       "      <td>Not as Advertised</td>\n",
       "      <td>Product arrived labeled as Jumbo Salted Peanut...</td>\n",
       "    </tr>\n",
       "    <tr>\n",
       "      <th>2</th>\n",
       "      <td>3</td>\n",
       "      <td>B000LQOCH0</td>\n",
       "      <td>ABXLMWJIXXAIN</td>\n",
       "      <td>Natalia Corres \"Natalia Corres\"</td>\n",
       "      <td>1</td>\n",
       "      <td>1</td>\n",
       "      <td>4</td>\n",
       "      <td>1219017600</td>\n",
       "      <td>\"Delight\" says it all</td>\n",
       "      <td>This is a confection that has been around a fe...</td>\n",
       "    </tr>\n",
       "    <tr>\n",
       "      <th>3</th>\n",
       "      <td>4</td>\n",
       "      <td>B000UA0QIQ</td>\n",
       "      <td>A395BORC6FGVXV</td>\n",
       "      <td>Karl</td>\n",
       "      <td>3</td>\n",
       "      <td>3</td>\n",
       "      <td>2</td>\n",
       "      <td>1307923200</td>\n",
       "      <td>Cough Medicine</td>\n",
       "      <td>If you are looking for the secret ingredient i...</td>\n",
       "    </tr>\n",
       "    <tr>\n",
       "      <th>4</th>\n",
       "      <td>5</td>\n",
       "      <td>B006K2ZZ7K</td>\n",
       "      <td>A1UQRSCLF8GW1T</td>\n",
       "      <td>Michael D. Bigham \"M. Wassir\"</td>\n",
       "      <td>0</td>\n",
       "      <td>0</td>\n",
       "      <td>5</td>\n",
       "      <td>1350777600</td>\n",
       "      <td>Great taffy</td>\n",
       "      <td>Great taffy at a great price.  There was a wid...</td>\n",
       "    </tr>\n",
       "  </tbody>\n",
       "</table>\n",
       "</div>"
      ]
     },
     "metadata": {},
     "execution_count": 2
    }
   ],
   "metadata": {}
  },
  {
   "cell_type": "markdown",
   "source": [
    "Our dataset contains the following columns:\n",
    "\n",
    "* **ID**: A unique ID for each row in the dataset\n",
    "* **ProductId**: A reference to the product that the review is about\n",
    "* **UserId**: A reference to the user who left the review\n",
    "* **HelpfulnessNumerator**: The number of readers of the review who indicated that it was \"helpful\"\n",
    "* **HelpfulnessDenominator**: The total number of people who gave an indication of whether or not the review was \"helpful\"\n",
    "* **Score**: The star rating (1-5)\n",
    "* **Time**: A Unix timestamp indicating when the review was created\n",
    "* **Summary**: The user-written summary of what the review is about\n",
    "* **Text**: The user-written review"
   ],
   "metadata": {}
  },
  {
   "cell_type": "markdown",
   "source": [
    "Let's look at the distribution of number of words per review:"
   ],
   "metadata": {}
  },
  {
   "cell_type": "code",
   "execution_count": 3,
   "source": [
    "# Getting the number of words by splitting them by a space\r\n",
    "words_per_review = amazon_reviews.Text.apply(lambda x: len(x.split(\" \")))\r\n",
    "words_per_review.hist(bins = 100)"
   ],
   "outputs": [
    {
     "output_type": "execute_result",
     "data": {
      "text/plain": [
       "<AxesSubplot:>"
      ]
     },
     "metadata": {},
     "execution_count": 3
    },
    {
     "output_type": "display_data",
     "data": {
      "text/plain": [
       "<Figure size 432x288 with 1 Axes>"
      ],
      "image/png": "[encoded data removed]"
     },
     "metadata": {
      "needs_background": "light"
     }
    }
   ],
   "metadata": {}
  },
  {
   "cell_type": "code",
   "execution_count": 4,
   "source": [
    "words_per_review.mean()"
   ],
   "outputs": [
    {
     "output_type": "execute_result",
     "data": {
      "text/plain": [
       "77.9028"
      ]
     },
     "metadata": {},
     "execution_count": 4
    }
   ],
   "metadata": {}
  },
  {
   "cell_type": "markdown",
   "source": [
    "Let's also look at the distribution of ratings:"
   ],
   "metadata": {}
  },
  {
   "cell_type": "code",
   "execution_count": 5,
   "source": [
    "amazon_reviews.Score.value_counts()"
   ],
   "outputs": [
    {
     "output_type": "execute_result",
     "data": {
      "text/plain": [
       "5    6183\n",
       "4    1433\n",
       "1     932\n",
       "3     862\n",
       "2     590\n",
       "Name: Score, dtype: int64"
      ]
     },
     "metadata": {},
     "execution_count": 5
    }
   ],
   "metadata": {}
  },
  {
   "cell_type": "code",
   "execution_count": 6,
   "source": [
    "percent_val = 100 * amazon_reviews.Score.value_counts()/amazon_reviews.shape[0]\r\n",
    "percent_val"
   ],
   "outputs": [
    {
     "output_type": "execute_result",
     "data": {
      "text/plain": [
       "5    61.83\n",
       "4    14.33\n",
       "1     9.32\n",
       "3     8.62\n",
       "2     5.90\n",
       "Name: Score, dtype: float64"
      ]
     },
     "metadata": {},
     "execution_count": 6
    }
   ],
   "metadata": {}
  },
  {
   "cell_type": "code",
   "execution_count": 7,
   "source": [
    "percent_val.plot.bar()"
   ],
   "outputs": [
    {
     "output_type": "execute_result",
     "data": {
      "text/plain": [
       "<AxesSubplot:>"
      ]
     },
     "metadata": {},
     "execution_count": 7
    },
    {
     "output_type": "display_data",
     "data": {
      "text/plain": [
       "<Figure size 432x288 with 1 Axes>"
      ],
      "image/png": "[encoded data removed]"
     },
     "metadata": {
      "needs_background": "light"
     }
    }
   ],
   "metadata": {}
  },
  {
   "cell_type": "markdown",
   "source": [
    "The distribution is quite skewed, with a giant number of 5s and very few 3s, 2s, and 1s."
   ],
   "metadata": {}
  },
  {
   "cell_type": "markdown",
   "source": [
    "### Exercise 1:\n",
    "\n",
    "Create a word cloud for the product reviews."
   ],
   "metadata": {
    "tags": [
     "5_min"
    ]
   }
  },
  {
   "cell_type": "markdown",
   "source": [
    "**Answer.**"
   ],
   "metadata": {
    "tags": [
     "ans_st"
    ]
   }
  },
  {
   "cell_type": "markdown",
   "source": [
    "-------"
   ],
   "metadata": {}
  },
  {
   "cell_type": "code",
   "execution_count": 8,
   "source": [
    "word_cloud_text = ''.join(amazon_reviews.Text[:10000])\r\n",
    "print(len(word_cloud_text))\r\n",
    "\r\n",
    "wordcloud = WordCloud(\r\n",
    "    max_font_size=100,\r\n",
    "    max_words=100,\r\n",
    "    background_color=\"white\",\r\n",
    "    scale=10,\r\n",
    "    width=800,\r\n",
    "    height=400\r\n",
    ").generate(word_cloud_text)\r\n",
    "\r\n",
    "plt.figure()\r\n",
    "plt.imshow(wordcloud, interpolation=\"bilinear\")\r\n",
    "plt.axis(\"off\")\r\n",
    "plt.show()"
   ],
   "outputs": [
    {
     "output_type": "stream",
     "name": "stdout",
     "text": [
      "4157740\n"
     ]
    },
    {
     "output_type": "display_data",
     "data": {
      "text/plain": [
       "<Figure size 432x288 with 1 Axes>"
      ],
      "image/png": "[encoded data removed]"
     },
     "metadata": {
      "needs_background": "light"
     }
    }
   ],
   "metadata": {}
  },
  {
   "cell_type": "markdown",
   "source": [
    "### Standardizing the ratings for sentiment analysis"
   ],
   "metadata": {
    "tags": [
     "5_min"
    ]
   }
  },
  {
   "cell_type": "markdown",
   "source": [
    "For the purposes of sentiment analysis, we will convert all of the ratings into binary values using the follow rule: ratings of 4 or 5 will get mapped to 1 (indicating \"positive\"), ratings of 1 or 2 will get mapped to 0 (indicating \"negative\"), and ratings of 3 will get removed."
   ],
   "metadata": {}
  },
  {
   "cell_type": "code",
   "execution_count": 10,
   "source": [
    "amazon_reviews['Sentiment_rating'] = np.where(amazon_reviews.Score > 3, 1, 0)\r\n",
    "amazon_reviews['Sentiment_rating'].value_counts()"
   ],
   "outputs": [
    {
     "output_type": "execute_result",
     "data": {
      "text/plain": [
       "1    7616\n",
       "0    2384\n",
       "Name: Sentiment_rating, dtype: int64"
      ]
     },
     "metadata": {},
     "execution_count": 10
    }
   ],
   "metadata": {}
  },
  {
   "cell_type": "code",
   "execution_count": 12,
   "source": [
    "# Removing neutral reviews \r\n",
    "amazon_reviews = amazon_reviews[amazon_reviews.Score != 3]"
   ],
   "outputs": [],
   "metadata": {}
  },
  {
   "cell_type": "code",
   "execution_count": 13,
   "source": [
    "rcParams['figure.figsize'] = 5, 3\r\n",
    "amazon_reviews.Sentiment_rating.value_counts().plot.bar()"
   ],
   "outputs": [
    {
     "output_type": "execute_result",
     "data": {
      "text/plain": [
       "<AxesSubplot:>"
      ]
     },
     "metadata": {},
     "execution_count": 13
    },
    {
     "output_type": "display_data",
     "data": {
      "text/plain": [
       "<Figure size 360x216 with 1 Axes>"
      ],
      "image/png": "[encoded data removed]"
     },
     "metadata": {
      "needs_background": "light"
     }
    }
   ],
   "metadata": {}
  },
  {
   "cell_type": "markdown",
   "source": [
    "## Pre-processing"
   ],
   "metadata": {
    "tags": [
     "25_min"
    ]
   }
  },
  {
   "cell_type": "markdown",
   "source": [
    "As discussed previously, text preprocessing and normalization is crucial before building a proper NLP model. Some of the important steps are:\n",
    "\n",
    "1. converting words to lower/upper case\n",
    "2. removing special characters\n",
    "3. removing stopwords and high/low-frequency words\n",
    "4. stemming/lemmatization\n",
    "\n",
    "You should know most of these already, although number 4 is new. Let's proceed in order. Let's start by converting all of the words into a consistent case format, say lowercase:"
   ],
   "metadata": {}
  },
  {
   "cell_type": "code",
   "execution_count": 14,
   "source": [
    "amazon_reviews['reviews_text_new'] = amazon_reviews.Text.apply(lambda x: x.lower())"
   ],
   "outputs": [
    {
     "output_type": "stream",
     "name": "stderr",
     "text": [
      "<ipython-input-14-5a39403d7401>:1: SettingWithCopyWarning: \n",
      "A value is trying to be set on a copy of a slice from a DataFrame.\n",
      "Try using .loc[row_indexer,col_indexer] = value instead\n",
      "\n",
      "See the caveats in the documentation: https://pandas.pydata.org/pandas-docs/stable/user_guide/indexing.html#returning-a-view-versus-a-copy\n",
      "  amazon_reviews['reviews_text_new'] = amazon_reviews.Text.apply(lambda x: x.lower())\n"
     ]
    }
   ],
   "metadata": {}
  },
  {
   "cell_type": "code",
   "execution_count": 15,
   "source": [
    "from nltk import word_tokenize\r\n",
    "import nltk\r\n",
    "\r\n",
    "nltk.download('punkt')\r\n",
    "\r\n",
    "token_lists = [word_tokenize(each) for each in amazon_reviews.Text]\r\n",
    "tokens = [item for sublist in token_lists for item in sublist]\r\n",
    "print(\"Number of unique tokens then: \", len(set(tokens)))\r\n",
    "\r\n",
    "token_lists_lower = [word_tokenize(each) for each in amazon_reviews.reviews_text_new]\r\n",
    "tokens_lower = [item for sublist in token_lists_lower for item in sublist]\r\n",
    "print(\"Number of unique tokens now: \", len(set(tokens_lower)))"
   ],
   "outputs": [
    {
     "output_type": "stream",
     "name": "stderr",
     "text": [
      "[nltk_data] Downloading package punkt to\n",
      "[nltk_data]     C:\\Users\\USER\\AppData\\Roaming\\nltk_data...\n",
      "[nltk_data]   Package punkt is already up-to-date!\n"
     ]
    },
    {
     "output_type": "stream",
     "name": "stdout",
     "text": [
      "Number of unique tokens then:  27509\n",
      "Number of unique tokens now:  22473\n"
     ]
    }
   ],
   "metadata": {}
  },
  {
   "cell_type": "markdown",
   "source": [
    "The number of tokens has gone down by ~18% just from normalizing the case."
   ],
   "metadata": {}
  },
  {
   "cell_type": "markdown",
   "source": [
    "### Exercise 2:\n",
    "\n",
    "Is removing special characters even a good idea? What are some examples of characters that would likely be safe to remove, and what are some that would not be?"
   ],
   "metadata": {
    "tags": [
     "5_min"
    ]
   }
  },
  {
   "cell_type": "markdown",
   "source": [
    "**Answer.**"
   ],
   "metadata": {
    "tags": [
     "ans_st"
    ]
   }
  },
  {
   "cell_type": "markdown",
   "source": [
    "-------"
   ],
   "metadata": {}
  },
  {
   "cell_type": "markdown",
   "source": [
    "Removing special characters is a subjective call, especially in cases like this one. People often use special characters to express their emotions and might leave a review like _'This product is the worst!!!'_, while a positive review could be like 'This product is the best. Loved it!' Here, the presence of exclamation marks clearly indicates something about the underlying sentiment, so removing them may well not be a good idea.\r\n",
    "\r\n",
    "On the other hand, removing non-emotionally charged punctuation such as commas, periods, and semicolons is likely safe."
   ],
   "metadata": {}
  },
  {
   "cell_type": "markdown",
   "source": [
    "For the sake of simplicity, we will proceed by removing all of the special characters; however, it pays to keep in mind that this is something to revisit depending on the results we get later. The following gives a list of all the special characters in our dataset:"
   ],
   "metadata": {}
  },
  {
   "cell_type": "code",
   "execution_count": 16,
   "source": [
    "# Selecting non alpha numeric charactes that are not spaces\r\n",
    "special_chars = amazon_reviews.reviews_text_new.apply(lambda x: [each for each in list(x) if not each.isalnum() and each != ' '])\r\n",
    "\r\n",
    "# Getting list of list into a single list\r\n",
    "flat_list = [item for sublist in special_chars for item in sublist]\r\n",
    "\r\n",
    "# Unique special characters\r\n",
    "print(set(flat_list))"
   ],
   "outputs": [
    {
     "output_type": "stream",
     "name": "stdout",
     "text": [
      "{'®', ')', '>', '{', '&', '/', '[', '?', '!', ';', '§', '=', \"'\", '.', '-', ':', '^', '`', '$', '(', '_', '+', '}', '%', '\"', '#', ',', '<', ']', '~', '@', '*'}\n"
     ]
    }
   ],
   "metadata": {}
  },
  {
   "cell_type": "markdown",
   "source": [
    "Let's remove these special characters from the reviews:"
   ],
   "metadata": {}
  },
  {
   "cell_type": "code",
   "execution_count": 17,
   "source": [
    "import re\r\n",
    "review_backup = amazon_reviews.reviews_text_new.copy()\r\n",
    "amazon_reviews.reviews_text_new = amazon_reviews.reviews_text_new.apply(\r\n",
    "    lambda x: re.sub('[^A-Za-z0-9 ]+', ' ', x)\r\n",
    ")"
   ],
   "outputs": [
    {
     "output_type": "stream",
     "name": "stderr",
     "text": [
      "C:\\Users\\USER\\anaconda3\\envs\\DS4A\\lib\\site-packages\\pandas\\core\\generic.py:5491: SettingWithCopyWarning: \n",
      "A value is trying to be set on a copy of a slice from a DataFrame.\n",
      "Try using .loc[row_indexer,col_indexer] = value instead\n",
      "\n",
      "See the caveats in the documentation: https://pandas.pydata.org/pandas-docs/stable/user_guide/indexing.html#returning-a-view-versus-a-copy\n",
      "  self[name] = value\n"
     ]
    }
   ],
   "metadata": {}
  },
  {
   "cell_type": "markdown",
   "source": [
    "We can see how our reviews change after removing these:"
   ],
   "metadata": {}
  },
  {
   "cell_type": "code",
   "execution_count": 18,
   "source": [
    "print(\"Old Review:\")\r\n",
    "review_backup.values[6]"
   ],
   "outputs": [
    {
     "output_type": "stream",
     "name": "stdout",
     "text": [
      "Old Review:\n"
     ]
    },
    {
     "output_type": "execute_result",
     "data": {
      "text/plain": [
       "\"this saltwater taffy had great flavors and was very soft and chewy.  each candy was individually wrapped well.  none of the candies were stuck together, which did happen in the expensive version, fralinger's.  would highly recommend this candy!  i served it at a beach-themed party and everyone loved it!\""
      ]
     },
     "metadata": {},
     "execution_count": 18
    }
   ],
   "metadata": {}
  },
  {
   "cell_type": "code",
   "execution_count": 19,
   "source": [
    "print(\"New Review:\")\r\n",
    "amazon_reviews.reviews_text_new[6]"
   ],
   "outputs": [
    {
     "output_type": "stream",
     "name": "stdout",
     "text": [
      "New Review:\n"
     ]
    },
    {
     "output_type": "execute_result",
     "data": {
      "text/plain": [
       "'this saltwater taffy had great flavors and was very soft and chewy   each candy was individually wrapped well   none of the candies were stuck together  which did happen in the expensive version  fralinger s   would highly recommend this candy   i served it at a beach themed party and everyone loved it '"
      ]
     },
     "metadata": {},
     "execution_count": 19
    }
   ],
   "metadata": {}
  },
  {
   "cell_type": "markdown",
   "source": [
    "The number of unique tokens has dropped further:"
   ],
   "metadata": {}
  },
  {
   "cell_type": "code",
   "execution_count": 20,
   "source": [
    "token_lists = [word_tokenize(each) for each in amazon_reviews.Text]\r\n",
    "tokens = [item for sublist in token_lists for item in sublist]\r\n",
    "print(\"Number of unique tokens then: \", len(set(tokens)))\r\n",
    "\r\n",
    "token_lists = [word_tokenize(each) for each in amazon_reviews.reviews_text_new]\r\n",
    "tokens = [item for sublist in token_lists for item in sublist]\r\n",
    "print(\"Number of unique tokens now: \", len(set(tokens)))"
   ],
   "outputs": [
    {
     "output_type": "stream",
     "name": "stdout",
     "text": [
      "Number of unique tokens then:  27509\n",
      "Number of unique tokens now:  18039\n"
     ]
    }
   ],
   "metadata": {}
  },
  {
   "cell_type": "markdown",
   "source": [
    "### Stopwords and high/low frequency words"
   ],
   "metadata": {
    "tags": [
     "5_min"
    ]
   }
  },
  {
   "cell_type": "markdown",
   "source": [
    "As discussed before, stopwords naturally occur very frequently in the English language without adding any context specific insights. It makes sense to remove them:"
   ],
   "metadata": {}
  },
  {
   "cell_type": "code",
   "execution_count": 21,
   "source": [
    "import nltk\r\n",
    "nltk.download('stopwords')\r\n",
    "\r\n",
    "noise_words = []\r\n",
    "stopwords_corpus = nltk.corpus.stopwords\r\n",
    "eng_stop_words = stopwords_corpus.words('english')\r\n",
    "noise_words.extend(eng_stop_words)\r\n",
    "print(len(noise_words))\r\n",
    "noise_words"
   ],
   "outputs": [
    {
     "output_type": "stream",
     "name": "stdout",
     "text": [
      "179\n"
     ]
    },
    {
     "output_type": "stream",
     "name": "stderr",
     "text": [
      "[nltk_data] Downloading package stopwords to\n",
      "[nltk_data]     C:\\Users\\USER\\AppData\\Roaming\\nltk_data...\n",
      "[nltk_data]   Package stopwords is already up-to-date!\n"
     ]
    },
    {
     "output_type": "execute_result",
     "data": {
      "text/plain": [
       "['i',\n",
       " 'me',\n",
       " 'my',\n",
       " 'myself',\n",
       " 'we',\n",
       " 'our',\n",
       " 'ours',\n",
       " 'ourselves',\n",
       " 'you',\n",
       " \"you're\",\n",
       " \"you've\",\n",
       " \"you'll\",\n",
       " \"you'd\",\n",
       " 'your',\n",
       " 'yours',\n",
       " 'yourself',\n",
       " 'yourselves',\n",
       " 'he',\n",
       " 'him',\n",
       " 'his',\n",
       " 'himself',\n",
       " 'she',\n",
       " \"she's\",\n",
       " 'her',\n",
       " 'hers',\n",
       " 'herself',\n",
       " 'it',\n",
       " \"it's\",\n",
       " 'its',\n",
       " 'itself',\n",
       " 'they',\n",
       " 'them',\n",
       " 'their',\n",
       " 'theirs',\n",
       " 'themselves',\n",
       " 'what',\n",
       " 'which',\n",
       " 'who',\n",
       " 'whom',\n",
       " 'this',\n",
       " 'that',\n",
       " \"that'll\",\n",
       " 'these',\n",
       " 'those',\n",
       " 'am',\n",
       " 'is',\n",
       " 'are',\n",
       " 'was',\n",
       " 'were',\n",
       " 'be',\n",
       " 'been',\n",
       " 'being',\n",
       " 'have',\n",
       " 'has',\n",
       " 'had',\n",
       " 'having',\n",
       " 'do',\n",
       " 'does',\n",
       " 'did',\n",
       " 'doing',\n",
       " 'a',\n",
       " 'an',\n",
       " 'the',\n",
       " 'and',\n",
       " 'but',\n",
       " 'if',\n",
       " 'or',\n",
       " 'because',\n",
       " 'as',\n",
       " 'until',\n",
       " 'while',\n",
       " 'of',\n",
       " 'at',\n",
       " 'by',\n",
       " 'for',\n",
       " 'with',\n",
       " 'about',\n",
       " 'against',\n",
       " 'between',\n",
       " 'into',\n",
       " 'through',\n",
       " 'during',\n",
       " 'before',\n",
       " 'after',\n",
       " 'above',\n",
       " 'below',\n",
       " 'to',\n",
       " 'from',\n",
       " 'up',\n",
       " 'down',\n",
       " 'in',\n",
       " 'out',\n",
       " 'on',\n",
       " 'off',\n",
       " 'over',\n",
       " 'under',\n",
       " 'again',\n",
       " 'further',\n",
       " 'then',\n",
       " 'once',\n",
       " 'here',\n",
       " 'there',\n",
       " 'when',\n",
       " 'where',\n",
       " 'why',\n",
       " 'how',\n",
       " 'all',\n",
       " 'any',\n",
       " 'both',\n",
       " 'each',\n",
       " 'few',\n",
       " 'more',\n",
       " 'most',\n",
       " 'other',\n",
       " 'some',\n",
       " 'such',\n",
       " 'no',\n",
       " 'nor',\n",
       " 'not',\n",
       " 'only',\n",
       " 'own',\n",
       " 'same',\n",
       " 'so',\n",
       " 'than',\n",
       " 'too',\n",
       " 'very',\n",
       " 's',\n",
       " 't',\n",
       " 'can',\n",
       " 'will',\n",
       " 'just',\n",
       " 'don',\n",
       " \"don't\",\n",
       " 'should',\n",
       " \"should've\",\n",
       " 'now',\n",
       " 'd',\n",
       " 'll',\n",
       " 'm',\n",
       " 'o',\n",
       " 're',\n",
       " 've',\n",
       " 'y',\n",
       " 'ain',\n",
       " 'aren',\n",
       " \"aren't\",\n",
       " 'couldn',\n",
       " \"couldn't\",\n",
       " 'didn',\n",
       " \"didn't\",\n",
       " 'doesn',\n",
       " \"doesn't\",\n",
       " 'hadn',\n",
       " \"hadn't\",\n",
       " 'hasn',\n",
       " \"hasn't\",\n",
       " 'haven',\n",
       " \"haven't\",\n",
       " 'isn',\n",
       " \"isn't\",\n",
       " 'ma',\n",
       " 'mightn',\n",
       " \"mightn't\",\n",
       " 'mustn',\n",
       " \"mustn't\",\n",
       " 'needn',\n",
       " \"needn't\",\n",
       " 'shan',\n",
       " \"shan't\",\n",
       " 'shouldn',\n",
       " \"shouldn't\",\n",
       " 'wasn',\n",
       " \"wasn't\",\n",
       " 'weren',\n",
       " \"weren't\",\n",
       " 'won',\n",
       " \"won't\",\n",
       " 'wouldn',\n",
       " \"wouldn't\"]"
      ]
     },
     "metadata": {},
     "execution_count": 21
    }
   ],
   "metadata": {}
  },
  {
   "cell_type": "markdown",
   "source": [
    "### Exercise 3:\n",
    "\n",
    "Find the high- and low-frequency words, which we will define as the 1% of words that occur most often in the reviews, as well as define the 1% of words that occur least often in the reviews (after adjusting for case and special characters)."
   ],
   "metadata": {
    "tags": [
     "5_min"
    ]
   }
  },
  {
   "cell_type": "markdown",
   "source": [
    "**Answer.**"
   ],
   "metadata": {
    "tags": [
     "ans_st"
    ]
   }
  },
  {
   "cell_type": "markdown",
   "source": [
    "-------"
   ],
   "metadata": {}
  },
  {
   "cell_type": "code",
   "execution_count": 22,
   "source": [
    "one_percentile = int(len(set(tokens)) * 0.01)\r\n",
    "top_1_percentile = Counter(tokens).most_common(one_percentile)\r\n",
    "top_1_percentile[:10]\r\n",
    "\r\n",
    "bottom_1_percentile = Counter(tokens).most_common()[-one_percentile:]\r\n",
    "bottom_1_percentile[:10]\r\n",
    "\r\n",
    "noise_words.extend([word for word,val in top_1_percentile])\r\n",
    "noise_words.extend([word for word,val in bottom_1_percentile])"
   ],
   "outputs": [],
   "metadata": {}
  },
  {
   "cell_type": "markdown",
   "source": [
    "Stop words and high/low frequency words have now been added to noise_words, which will be removed from the reviews prior to training machine learning models. The common words are unlikely to be that useful as we expect them to appear about as often in positive and negative reviews. The uncommon words might be more meaningful and could in theory indicate the sentiment of the review, but as they appear so seldom our model would not be able to learn any meaning from them."
   ],
   "metadata": {}
  },
  {
   "cell_type": "markdown",
   "source": [
    "### Stemming & lemmatization"
   ],
   "metadata": {
    "tags": [
     "5_min"
    ]
   }
  },
  {
   "cell_type": "markdown",
   "source": [
    "Now we are ready for the last part of our pre-processing - **[stemming & lemmatization](https://nlp.stanford.edu/IR-book/html/htmledition/stemming-and-lemmatization-1.html)**.\n",
    "\n",
    "Different forms of a word often communicate essentially the same meaning. For example, there’s probably no difference in intent between a search for `shoe` and a search for `shoes`. The same word may also appear in different tenses; e.g. \"run\", \"ran\", and \"running\". These syntactic differences between word forms are called **inflections**. In general, we probably want to treat inflections identically when featurizing our text.\n",
    "\n",
    "Sometimes this process is nearly-reversible and quite safe (e.g. replacing verbs with their infinitive, so that \"run\", \"runs\", and \"running\" all become \"run\"). Other times it is a bit dangerous and context-dependant (e.g. replacing superlatives with their base form, so that \"good\", \"better\", and \"best\" all become \"good\"). The more aggressive you are, the greater the potential rewards and risks. For a very aggressive example, you might choose to replace \"Zeus\" and \"Jupiter\" with \"Zeus\" only; this might be OK if you are summarizing myths, confusing if you are working on astronomy, and disastrous if you are working on comparative mythology.\n",
    "\n",
    "We won't get into the details of the differences between [stemming](http://www.nltk.org/api/nltk.stem.html?highlight=lemmatizer), [lemmatization](http://www.nltk.org/api/nltk.stem.html?highlight=lemmatizer#module-nltk.stem.wordnet) and other types of text normalization here, but a careful introduction can be found at: https://nlp.stanford.edu/IR-book/html/htmledition/stemming-and-lemmatization-1.html."
   ],
   "metadata": {}
  },
  {
   "cell_type": "code",
   "execution_count": 23,
   "source": [
    "from nltk.stem import PorterStemmer, WordNetLemmatizer, LancasterStemmer\r\n",
    "\r\n",
    "nltk.download('wordnet')\r\n",
    "\r\n",
    "from nltk.corpus import wordnet\r\n",
    "\r\n",
    "porter = PorterStemmer()\r\n",
    "lancaster = LancasterStemmer()\r\n",
    "lemmatizer = WordNetLemmatizer()"
   ],
   "outputs": [
    {
     "output_type": "stream",
     "name": "stderr",
     "text": [
      "[nltk_data] Downloading package wordnet to\n",
      "[nltk_data]     C:\\Users\\USER\\AppData\\Roaming\\nltk_data...\n",
      "[nltk_data]   Package wordnet is already up-to-date!\n"
     ]
    }
   ],
   "metadata": {}
  },
  {
   "cell_type": "markdown",
   "source": [
    "**Stemming algorithms** work by cutting off the end or the beginning of the word, taking into account a list of common prefixes and suffixes that can be found.\n",
    "\n",
    "On the other hand, **lemmatization** takes into consideration the morphological analysis of the words. So lemmatization takes into account the grammar of the word and tries to find the root word instead of just getting to the root word by brute force methods."
   ],
   "metadata": {}
  },
  {
   "cell_type": "code",
   "execution_count": 24,
   "source": [
    "print(\"Lancaster Stemmer\")\r\n",
    "print(lancaster.stem(\"trouble\"))\r\n",
    "print(lancaster.stem(\"troubling\"))\r\n",
    "print(lancaster.stem(\"troubled\"))\r\n",
    "\r\n",
    "# Provide a word to be lemmatized\r\n",
    "print(\"WordNet Lemmatizer\")\r\n",
    "print(lemmatizer.lemmatize(\"trouble\", wordnet.NOUN))\r\n",
    "print(lemmatizer.lemmatize(\"troubling\", wordnet.VERB))\r\n",
    "print(lemmatizer.lemmatize(\"troubled\", wordnet.VERB))"
   ],
   "outputs": [
    {
     "output_type": "stream",
     "name": "stdout",
     "text": [
      "Lancaster Stemmer\n",
      "troubl\n",
      "troubl\n",
      "troubl\n",
      "WordNet Lemmatizer\n",
      "trouble\n",
      "trouble\n",
      "trouble\n"
     ]
    }
   ],
   "metadata": {}
  },
  {
   "cell_type": "markdown",
   "source": [
    "It can be seen that we get a meaning root word from Lemmatizer while Stemmer just cuts out and extracts the first important part of the word."
   ],
   "metadata": {}
  },
  {
   "cell_type": "markdown",
   "source": [
    "## Building our machine learning model"
   ],
   "metadata": {
    "tags": [
     "40_min"
    ]
   }
  },
  {
   "cell_type": "markdown",
   "source": [
    "Now we have cleaned-up versions of two very important pieces of data – the actual review text and its corresponding sentiment rating:"
   ],
   "metadata": {}
  },
  {
   "cell_type": "code",
   "execution_count": 25,
   "source": [
    "amazon_reviews[['Text','Score','Sentiment_rating']].head(5)"
   ],
   "outputs": [
    {
     "output_type": "execute_result",
     "data": {
      "text/plain": [
       "                                                Text  Score  Sentiment_rating\n",
       "0  I have bought several of the Vitality canned d...      5                 1\n",
       "1  Product arrived labeled as Jumbo Salted Peanut...      1                 0\n",
       "2  This is a confection that has been around a fe...      4                 1\n",
       "3  If you are looking for the secret ingredient i...      2                 0\n",
       "4  Great taffy at a great price.  There was a wid...      5                 1"
      ],
      "text/html": [
       "<div>\n",
       "<style scoped>\n",
       "    .dataframe tbody tr th:only-of-type {\n",
       "        vertical-align: middle;\n",
       "    }\n",
       "\n",
       "    .dataframe tbody tr th {\n",
       "        vertical-align: top;\n",
       "    }\n",
       "\n",
       "    .dataframe thead th {\n",
       "        text-align: right;\n",
       "    }\n",
       "</style>\n",
       "<table border=\"1\" class=\"dataframe\">\n",
       "  <thead>\n",
       "    <tr style=\"text-align: right;\">\n",
       "      <th></th>\n",
       "      <th>Text</th>\n",
       "      <th>Score</th>\n",
       "      <th>Sentiment_rating</th>\n",
       "    </tr>\n",
       "  </thead>\n",
       "  <tbody>\n",
       "    <tr>\n",
       "      <th>0</th>\n",
       "      <td>I have bought several of the Vitality canned d...</td>\n",
       "      <td>5</td>\n",
       "      <td>1</td>\n",
       "    </tr>\n",
       "    <tr>\n",
       "      <th>1</th>\n",
       "      <td>Product arrived labeled as Jumbo Salted Peanut...</td>\n",
       "      <td>1</td>\n",
       "      <td>0</td>\n",
       "    </tr>\n",
       "    <tr>\n",
       "      <th>2</th>\n",
       "      <td>This is a confection that has been around a fe...</td>\n",
       "      <td>4</td>\n",
       "      <td>1</td>\n",
       "    </tr>\n",
       "    <tr>\n",
       "      <th>3</th>\n",
       "      <td>If you are looking for the secret ingredient i...</td>\n",
       "      <td>2</td>\n",
       "      <td>0</td>\n",
       "    </tr>\n",
       "    <tr>\n",
       "      <th>4</th>\n",
       "      <td>Great taffy at a great price.  There was a wid...</td>\n",
       "      <td>5</td>\n",
       "      <td>1</td>\n",
       "    </tr>\n",
       "  </tbody>\n",
       "</table>\n",
       "</div>"
      ]
     },
     "metadata": {},
     "execution_count": 25
    }
   ],
   "metadata": {}
  },
  {
   "cell_type": "markdown",
   "source": [
    "The independent variables or model features are derived from the review text. Previously, we discussed how we can use n-grams to create features, and specifically how bag-of-words is the simplest interpretation of these n-grams, disregarding order and context entirely and only focusing on frequency/count. Let's use that as a starting point."
   ],
   "metadata": {}
  },
  {
   "cell_type": "markdown",
   "source": [
    "### Bag-of-words"
   ],
   "metadata": {
    "tags": [
     "5_min"
    ]
   }
  },
  {
   "cell_type": "markdown",
   "source": [
    "`CountVectorizer` is a Python class that automatically accounts for certain preprocessing steps like removing stopwords, stemming, creating n-grams, and word tokenization:"
   ],
   "metadata": {}
  },
  {
   "cell_type": "code",
   "execution_count": 26,
   "source": [
    "# Creating a method for stemming\r\n",
    "from nltk.stem import PorterStemmer\r\n",
    "\r\n",
    "stemmer = PorterStemmer()\r\n",
    "analyzer = CountVectorizer().build_analyzer()\r\n",
    "\r\n",
    "def stemmed_words(doc):\r\n",
    "    return (stemmer.stem(w) for w in analyzer(doc))"
   ],
   "outputs": [],
   "metadata": {}
  },
  {
   "cell_type": "markdown",
   "source": [
    "Let's use this to create a bag of words from the reviews, excluding the noise words we identified earlier:"
   ],
   "metadata": {}
  },
  {
   "cell_type": "code",
   "execution_count": 27,
   "source": [
    "# Creating a python object of the class CountVectorizer\r\n",
    "\r\n",
    "bow_counts = CountVectorizer(\r\n",
    "    tokenizer=word_tokenize,\r\n",
    "    stop_words=noise_words,\r\n",
    "    ngram_range=(1, 1)\r\n",
    ")"
   ],
   "outputs": [],
   "metadata": {}
  },
  {
   "cell_type": "markdown",
   "source": [
    "Once the bag of words is prepared, the dataset should be divided into training and test sets. We could also split the data after vectorizing it, but it's useful to split the data as early as possible in the process. This means that once we have generated our predictions, we can more easily compare them with the original texts, before they have been preprocessed and vectorized."
   ],
   "metadata": {}
  },
  {
   "cell_type": "code",
   "execution_count": 29,
   "source": [
    "reviews_train, reviews_test = train_test_split(amazon_reviews, test_size=0.2, random_state=0)"
   ],
   "outputs": [],
   "metadata": {}
  },
  {
   "cell_type": "code",
   "execution_count": 31,
   "source": [
    "reviews_train.reviews_text_new"
   ],
   "outputs": [
    {
     "output_type": "execute_result",
     "data": {
      "text/plain": [
       "1585    when i purchased the harmony farms healthy wei...\n",
       "8134    i just called bob s red mill customer service ...\n",
       "8426    i drink a lot of coffee and i buy several diff...\n",
       "7846    this soup has no flavor  broth had a slimy con...\n",
       "8086    this was the first time i have made mongolian ...\n",
       "                              ...                        \n",
       "4751    my dogs love it  even the little princess terr...\n",
       "8627    tried this for the first time this week and it...\n",
       "5275    japanese sweet but strong black coffee candy  ...\n",
       "3555    recommended to me by a friend i saw at the gym...\n",
       "2973    this is my family s favorite brand of wheat fr...\n",
       "Name: reviews_text_new, Length: 7310, dtype: object"
      ]
     },
     "metadata": {},
     "execution_count": 31
    }
   ],
   "metadata": {}
  },
  {
   "cell_type": "code",
   "execution_count": 30,
   "source": [
    "X_train_bow = bow_counts.fit_transform(reviews_train.reviews_text_new)\r\n",
    "X_test_bow = bow_counts.transform(reviews_test.reviews_text_new)"
   ],
   "outputs": [
    {
     "output_type": "stream",
     "name": "stderr",
     "text": [
      "C:\\Users\\USER\\anaconda3\\envs\\DS4A\\lib\\site-packages\\sklearn\\feature_extraction\\text.py:388: UserWarning: Your stop_words may be inconsistent with your preprocessing. Tokenizing the stop words generated tokens [\"'d\", \"'ll\", \"'re\", \"'s\", \"'ve\", 'might', 'must', \"n't\", 'need', 'sha', 'wo'] not in stop_words.\n",
      "  warnings.warn('Your stop_words may be inconsistent with '\n"
     ]
    }
   ],
   "metadata": {}
  },
  {
   "cell_type": "markdown",
   "source": [
    "Note that we call `fit_transform` to vectorize our training set and `transform` to vectorize our test set. This builds the vectorization mappings *only* on data from the training set, which is a restriction we would be faced with in a real-world problem (not having access to testing data during training time).\n",
    "\n",
    "Therefore, there may be some words in the test set which we don't know how to vectorize and they will be skipped."
   ],
   "metadata": {}
  },
  {
   "cell_type": "code",
   "execution_count": null,
   "source": [
    "y_train_bow = reviews_train['Sentiment_rating']\r\n",
    "y_test_bow = reviews_test['Sentiment_rating']"
   ],
   "outputs": [],
   "metadata": {}
  },
  {
   "cell_type": "code",
   "execution_count": null,
   "source": [
    "y_test_bow.value_counts() / y_test_bow.shape[0]"
   ],
   "outputs": [],
   "metadata": {}
  },
  {
   "cell_type": "markdown",
   "source": [
    "The test data contains 84% positive sentiment reviews. The simplest prediction model we could think of would be one that predicts \"positive\" for every input. We would call this a \"naive\" model, and it makes for a useful baseline. In this case, such a model would get 84% accuracy, so we can consider this a baseline score that our machine learning model needs to beat."
   ],
   "metadata": {}
  },
  {
   "cell_type": "markdown",
   "source": [
    "### Applying logistic regression"
   ],
   "metadata": {
    "tags": [
     "5_min"
    ]
   }
  },
  {
   "cell_type": "markdown",
   "source": [
    "Let's train the model on our training data and run the resulting model on our test data:"
   ],
   "metadata": {}
  },
  {
   "cell_type": "code",
   "execution_count": null,
   "source": [
    "# Training the model \n",
    "lr_model_all = LogisticRegression(C=1, solver=\"liblinear\")\n",
    "lr_model_all.fit(X_train_bow, y_train_bow)\n",
    "\n",
    "# Predicting the output\n",
    "test_pred_lr_prob = lr_model_all.predict_proba(X_test_bow)\n",
    "test_pred_lr_all = lr_model_all.predict(X_test_bow)\n",
    "\n",
    "print(\"F1 score: \", f1_score(y_test_bow, test_pred_lr_all))\n",
    "print(\"Accuracy: \", accuracy_score(y_test_bow, test_pred_lr_all) * 100)"
   ],
   "outputs": [],
   "metadata": {}
  },
  {
   "cell_type": "code",
   "execution_count": null,
   "source": [
    "probabilities = [each[1] for each in test_pred_lr_prob]"
   ],
   "outputs": [],
   "metadata": {}
  },
  {
   "cell_type": "code",
   "execution_count": null,
   "source": [
    "predictions = pd.DataFrame()\n",
    "predictions['Text'] = reviews_test['Text']\n",
    "predictions['Actual_Score'] = reviews_test['Score']\n",
    "predictions['Sentiment_rating'] = reviews_test['Sentiment_rating']\n",
    "predictions['Predicted_sentiment'] = test_pred_lr_all\n",
    "predictions['Predicted_probability'] = probabilities"
   ],
   "outputs": [],
   "metadata": {}
  },
  {
   "cell_type": "code",
   "execution_count": null,
   "source": [
    "predictions.head(5)"
   ],
   "outputs": [],
   "metadata": {}
  },
  {
   "cell_type": "code",
   "execution_count": null,
   "source": [
    "accuracy_score(predictions['Sentiment_rating'], predictions['Predicted_sentiment'])"
   ],
   "outputs": [],
   "metadata": {}
  },
  {
   "cell_type": "markdown",
   "source": [
    "### Exercise 4:\n",
    "\n",
    "In the `Predicted_probability` column you can see how confident the model was in its predictions, with probabilities very close to 0 being very confident negative sentiment predictions, and probabilities very close to 1 being very confident positive sentiment predictions.\n",
    "\n",
    "Use this information to find the case where the model was *most confident* in predicting a review as having a negative sentiment when the actual score was positive.\n",
    "\n",
    "Look at the review text and write a few sentences of analysis about why you think the model got it wrong."
   ],
   "metadata": {
    "tags": [
     "5_min"
    ]
   }
  },
  {
   "cell_type": "markdown",
   "source": [
    "**Answer.**"
   ],
   "metadata": {
    "tags": [
     "ans_st"
    ]
   }
  },
  {
   "cell_type": "markdown",
   "source": [
    "-------"
   ],
   "metadata": {}
  },
  {
   "cell_type": "markdown",
   "source": [
    "### Exercise 5:\n",
    "\n",
    "Modify the set of features in the model to include bigrams, trigrams, and 4-grams. Don't remove the noise words defined earlier before featurizing. (Hint: set `ngram_range=(1,4)`.) \n",
    "\n",
    "At the same time, experiment with hyperparameter tuning. Change the `C` value of the logistic regression classifier to 0.9."
   ],
   "metadata": {
    "tags": [
     "10_min"
    ]
   }
  },
  {
   "cell_type": "markdown",
   "source": [
    "**Answer.**"
   ],
   "metadata": {
    "tags": [
     "ans_st"
    ]
   }
  },
  {
   "cell_type": "markdown",
   "source": [
    "-------"
   ],
   "metadata": {}
  },
  {
   "cell_type": "markdown",
   "source": [
    "The accuracy has jumped from 90% to 92.2%. This is an example of what simple hyperparameter tuning and input feature modification can do to the overall performance. We can even get interpretable features from this in terms of what contributed the most to positive and negative sentiment:"
   ],
   "metadata": {}
  },
  {
   "cell_type": "code",
   "execution_count": null,
   "source": [
    "lr_weights = pd.DataFrame(list(\n",
    "    zip(\n",
    "        bow_counts.get_feature_names(),\n",
    "        lr_model_all_new.coef_[0])\n",
    "    ),\n",
    "    columns=['words','weights']\n",
    ")\n",
    "\n",
    "lr_weights.sort_values(['weights'],ascending = False)[:15]"
   ],
   "outputs": [],
   "metadata": {}
  },
  {
   "cell_type": "code",
   "execution_count": null,
   "source": [
    "lr_weights.sort_values(['weights'],ascending = False)[-15:]"
   ],
   "outputs": [],
   "metadata": {}
  },
  {
   "cell_type": "markdown",
   "source": [
    "### Exercise 6:\n",
    "\n",
    "Perform random forests classification on our feature set just as we did above with logistic regression."
   ],
   "metadata": {
    "tags": [
     "10_min"
    ]
   }
  },
  {
   "cell_type": "markdown",
   "source": [
    "**Answer.**"
   ],
   "metadata": {
    "tags": [
     "ans_st"
    ]
   }
  },
  {
   "cell_type": "markdown",
   "source": [
    "-------"
   ],
   "metadata": {}
  },
  {
   "cell_type": "markdown",
   "source": [
    "This is not quite as good as logistic regression. We can get the n-grams which were most important for the predictions as follows:"
   ],
   "metadata": {}
  },
  {
   "cell_type": "code",
   "execution_count": null,
   "source": [
    "feature_importances = pd.DataFrame(\n",
    "    rf_model_all.feature_importances_,\n",
    "    index=bow_counts.get_feature_names(),\n",
    "    columns=['importance']\n",
    ")"
   ],
   "outputs": [],
   "metadata": {}
  },
  {
   "cell_type": "code",
   "execution_count": null,
   "source": [
    "feature_importances.sort_values(['importance'], ascending=False)[:10]"
   ],
   "outputs": [],
   "metadata": {}
  },
  {
   "cell_type": "markdown",
   "source": [
    "## TF-IDF model"
   ],
   "metadata": {
    "tags": [
     "25_min"
    ]
   }
  },
  {
   "cell_type": "markdown",
   "source": [
    "Of course, bag-of-words are not the only way to featurize text. Another method, which we briefly touched upon before, is the **Term Frequency-Inverse Document Frequency (TF-IDF)** method. This evaluates how important a word is to a document within a large collection of documents (i.e. corpus). The importance increases proportionally based on the number of times a word appears in the document but is offset by the frequency of the word in the corpus.\n",
    "\n",
    "The TF-IDF weight is the product of two terms. The first computes the normalized Term Frequency (TF); i.e. the number of times a word appears in a document divided by the total number of words in that document. The second term is the Inverse Document Frequency (IDF), computed as the logarithm of the number of the documents in the corpus divided by the number of documents where the specific term appears:"
   ],
   "metadata": {}
  },
  {
   "cell_type": "markdown",
   "source": [
    "<img src='tf-idf.png'>"
   ],
   "metadata": {}
  },
  {
   "cell_type": "markdown",
   "source": [
    "Less formally, what does this mean?\n",
    "\n",
    "* If a word appears very often in a specific document, it is likely to be significant.\n",
    "* If a word appears very often throughout nearly all documents in the corpus, it is unlikely to be significant.\n",
    "* Therefore, a word that appears often in one document but *rarely* in the rest of the corpus deserves special attention.\n",
    "\n",
    "TF-IDF doesn't just count each word - it applies a weighting so that common words receive less attention and rare words receive more.\n",
    "\n",
    "Let's re-featurize our original set of reviews based on TF-IDF and split the resulting features into train and test sets:"
   ],
   "metadata": {}
  },
  {
   "cell_type": "code",
   "execution_count": null,
   "source": [
    "# Create a vectorizer - we still feed in our stop words, although\n",
    "# these are less relevant now as TF-IDF would weight them less \n",
    "# anyway.\n",
    "tfidf_counts = TfidfVectorizer(\n",
    "    tokenizer=word_tokenize,\n",
    "    stop_words=noise_words,\n",
    "    ngram_range=(1,1)\n",
    ")\n",
    "\n",
    "X_train_tfidf = tfidf_counts.fit_transform(reviews_train.reviews_text_new)\n",
    "X_test_tfidf = tfidf_counts.transform(reviews_test.reviews_text_new)"
   ],
   "outputs": [],
   "metadata": {}
  },
  {
   "cell_type": "markdown",
   "source": [
    "### Applying logistic regression to TF-IDF features"
   ],
   "metadata": {
    "tags": [
     "5_min"
    ]
   }
  },
  {
   "cell_type": "markdown",
   "source": [
    "Let's apply logistic regression to the features created from TF-IDF:"
   ],
   "metadata": {}
  },
  {
   "cell_type": "code",
   "execution_count": null,
   "source": [
    "# Create the classifier\n",
    "lr_model_tf_idf = LogisticRegression(solver=\"liblinear\")\n",
    "\n",
    "# Train the classifier\n",
    "lr_model_tf_idf.fit(X_train_tfidf, y_train_bow)\n",
    "\n",
    "# Predict the results\n",
    "test_pred_lr_prob = lr_model_tf_idf.predict_proba(X_test_tfidf)\n",
    "test_pred_lr_all = lr_model_tf_idf.predict(X_test_tfidf)\n",
    "\n",
    "## Evaluating the model\n",
    "print(\"F1 score: \",f1_score(y_test_bow, test_pred_lr_all))\n",
    "print(\"Accuracy: \", accuracy_score(y_test_bow, test_pred_lr_all) * 100)"
   ],
   "outputs": [],
   "metadata": {}
  },
  {
   "cell_type": "markdown",
   "source": [
    "Here we have attained an accuracy of 88% with TF-IDF as compared to 90% with 1-grams. It's hard to know exactly why this more sophisticated vectorizing algorithm leads to worse results, but it could be that penalising words that are common across the corpus leads to a disadvantage for this particular dataset. TF-IDF is often useful when the testing data is very different from the training data, allowing words that are only common in the training set to be deprioritized."
   ],
   "metadata": {}
  },
  {
   "cell_type": "markdown",
   "source": [
    "### Exercise 7:\n",
    "\n",
    "Try increasing the accuracy of the model by \n",
    "\n",
    "* setting `ngram_range=(1,4)` in the Vectorizer\n",
    "* not removing the noise words beforehand in the Vectorizer\n",
    "* setting `C=10` in the LogisticRegression classsifier\n",
    "* setting `penalty=\"l1\"` in the LogisticRegression classifier"
   ],
   "metadata": {
    "tags": [
     "10_min"
    ]
   }
  },
  {
   "cell_type": "markdown",
   "source": [
    "**Answer.**"
   ],
   "metadata": {
    "tags": [
     "ans_st"
    ]
   }
  },
  {
   "cell_type": "markdown",
   "source": [
    "-------"
   ],
   "metadata": {}
  },
  {
   "cell_type": "markdown",
   "source": [
    "This is an improvement on our previous result, but we made four changes at the same time, so we don't know which ones helped and how much.\n",
    "    \n",
    "Trying different hyperparameters to improve your model is called **hyperparameter tuning** and is a huge field on its own. You can imagine how running this model 16 times, once with each possible configuration of hyperparamters we have tried, would already get kind of tricky to keep track, and this is only with 4 hyperparameters and two values for each! With 100s or 1000s of hyperparameters and 100s or 1000s of values for each, the total combinations grows very quickly.\n",
    "\n",
    "To help with this, scikit-learn provides so-called \"[grid search](https://scikit-learn.org/stable/modules/generated/sklearn.model_selection.GridSearchCV.html)\" functionality, where you can set up a pipeline and specify the ranges of hyperparmeters you want to \"search\". scikit-learn will try each combination and train and evaluate the model for each case, telling you which one performed the best.\n",
    "\n",
    "We can also find our most important features again, as below:"
   ],
   "metadata": {}
  },
  {
   "cell_type": "code",
   "execution_count": null,
   "source": [
    "lr_weights = pd.DataFrame(\n",
    "    list(\n",
    "        zip(tfidf_counts.get_feature_names(), lr_model_tf_idf_new.coef_[0])\n",
    "    ),\n",
    "    columns=['words','weights']\n",
    ")\n",
    "\n",
    "lr_weights.sort_values(['weights'],ascending = False)[:10]"
   ],
   "outputs": [],
   "metadata": {}
  },
  {
   "cell_type": "code",
   "execution_count": null,
   "source": [
    "lr_weights.sort_values(['weights'],ascending = False)[-10:]"
   ],
   "outputs": [],
   "metadata": {}
  },
  {
   "cell_type": "markdown",
   "source": [
    "## Word embeddings model"
   ],
   "metadata": {
    "tags": [
     "20_min"
    ]
   }
  },
  {
   "cell_type": "markdown",
   "source": [
    "The final type of featurization we will cover are **word embeddings**. This is a type of word representation that allows words with similar meaning to have a similar representation. By being pre-trained on external data, such as Wikipedia, word embeddings know when concepts are *semantically* related -- for example the vectors for \"king\" and \"queen\" would be located near each other, even though there is no syntactic or spelling similarity between these words.\n",
    "\n",
    "It is this approach to representing words and documents that may be considered one of the key breakthroughs of deep learning on challenging natural language processing problems.\n",
    "    \n",
    "There are many datasets of pre-trained word embeddings that are freely available, or you can train your own. Some major breakthroughs in this area include [Word2Vec](https://en.wikipedia.org/wiki/Word2vec), which became a poster child of NLP, and other embeddings approaches such as [Glove](https://nlp.stanford.edu/projects/glove/), [ELMo](https://allennlp.org/elmo) and [BERT](https://github.com/google-research/bert)."
   ],
   "metadata": {}
  },
  {
   "cell_type": "markdown",
   "source": [
    "In the following image, each of the words have been represented in 2-dimensions for simplicity. In reality, embeddings are usually represented in at least 50 dimensions (often far more, actually). It can be clearly seen that words with similar context are grouped together – bathroom, kitchen, bathtub are grouped together, while microwave, refrigerator, oven form another group, etc."
   ],
   "metadata": {}
  },
  {
   "cell_type": "code",
   "execution_count": null,
   "source": [
    "from IPython.display import Image\n",
    "from IPython.core.display import HTML"
   ],
   "outputs": [],
   "metadata": {}
  },
  {
   "cell_type": "markdown",
   "source": [
    "<img src='wembeddings.png'>"
   ],
   "metadata": {}
  },
  {
   "cell_type": "markdown",
   "source": [
    "There are different methods to learn word embeddings - Word2Vec, GloVe, FastText. **Word2Vec** uses a shallow Neural Network and is of two types; _CBOW_ and _Skip Gram_. **GloVe** is an unsupervised learning algorithm for obtaining vector representations for words. Training is performed on aggregated global word-word co-occurrence statistics from a corpus, and the resulting representations showcase interesting linear substructures of the word vector space. **[fastText](https://fasttext.cc/)** is a library for learning of word embeddings and text classification created by Facebook's AI Research lab."
   ],
   "metadata": {}
  },
  {
   "cell_type": "markdown",
   "source": [
    "### Why use word embeddings over bag-of-words and TF-IDF?\n",
    "\n",
    "Each word is represented by a real-valued vector, which generally has tens or hundreds of dimensions. This is in contrast to he thousands or millions of dimensions required for sparse word representations. Thus, word embeddings can drastically reduce the number of dimensions required for representing a text document:"
   ],
   "metadata": {
    "tags": [
     "5_min"
    ]
   }
  },
  {
   "cell_type": "code",
   "execution_count": null,
   "source": [
    "import gensim"
   ],
   "outputs": [],
   "metadata": {}
  },
  {
   "cell_type": "code",
   "execution_count": null,
   "source": [
    "# Loading a pre-trained glove word embedding that is trained on a Twitter dataset \n",
    "# This word embedding is 200 dimensional, meaning that each word is represented\n",
    "# by a 200 dimensional vector.\n",
    "\n",
    "model = gensim.models.KeyedVectors.load_word2vec_format(\n",
    "    os.path.join(os.getcwd(), 'glove.twitter.27B.200d_out.txt'),\n",
    "    binary=False,\n",
    "    unicode_errors='ignore'\n",
    ")"
   ],
   "outputs": [],
   "metadata": {}
  },
  {
   "cell_type": "markdown",
   "source": [
    "We had approximately 18,000 distinct tokens for 1-gram features in the bag-of-words representation, yet will only have 200 dimensions in this word embedding. This is a huge difference!\n",
    "\n",
    "Moreover, word embeddings capture the context and semantics of the sentences since each word vector representation is itself based on its contextual meaning.\n",
    "\n",
    "Below is the vector representation for \"food\" and \"great\":"
   ],
   "metadata": {}
  },
  {
   "cell_type": "code",
   "execution_count": null,
   "source": [
    "print(\"The embedding for food is\", len(model['food']), \"dimensional\")\n",
    "\n",
    "model['food']"
   ],
   "outputs": [],
   "metadata": {}
  },
  {
   "cell_type": "code",
   "execution_count": null,
   "source": [
    "print(\"The embedding for great is\", len(model['great']), \"dimensional\")\n",
    "\n",
    "model['great']"
   ],
   "outputs": [],
   "metadata": {}
  },
  {
   "cell_type": "markdown",
   "source": [
    "As we discussed, the power of word embeddings is that that words that have a similar meaning are closer together in vector space. We can demonstrate this by looking at the cosine distance between some pairs of words as follows:"
   ],
   "metadata": {}
  },
  {
   "cell_type": "code",
   "execution_count": null,
   "source": [
    "def print_similarity(word1, word2, model):\n",
    "    v1 = model[word1]\n",
    "    v2 = model[word2]\n",
    "    similarity = np.dot(v1, v2) / (np.linalg.norm(v1) * np.linalg.norm(v2))\n",
    "    print(f\"{word1} and {word2} are {round(similarity * 100)}% similar\")\n",
    "\n",
    "print_similarity(\"cat\", \"dog\", model)\n",
    "print_similarity(\"good\", \"bad\", model)\n",
    "print_similarity(\"great\", \"good\", model)\n",
    "print_similarity(\"grass\", \"model\", model)"
   ],
   "outputs": [],
   "metadata": {}
  },
  {
   "cell_type": "markdown",
   "source": [
    "Here, \"similar meaning\" is loosely defined as \"used in similar contexts\". Because there are many examples such as \"I stroked my cat\" and \"I stroked my dog\" where these words are used in similar contexts, they are regarded as very similar. There are also many sentences where \"good\" and \"bad\" can be interchanged and the sentence can remain valid, so although we regard these as \"opposite\" our model will regard them as similar. \"grass\" and \"model\" have nearly nothing to do with each other, so they are very far apart."
   ],
   "metadata": {}
  },
  {
   "cell_type": "markdown",
   "source": [
    "To find the vector for an entire review, we get the vector for each word in the review separately and take a simple average."
   ],
   "metadata": {}
  },
  {
   "cell_type": "markdown",
   "source": [
    "### Exercise 8:\n",
    "\n",
    "Calculate the vector for every single review in the dataset."
   ],
   "metadata": {
    "tags": [
     "5_min"
    ]
   }
  },
  {
   "cell_type": "markdown",
   "source": [
    "**Answer.**"
   ],
   "metadata": {
    "tags": [
     "ans_st"
    ]
   }
  },
  {
   "cell_type": "markdown",
   "source": [
    "-------"
   ],
   "metadata": {}
  },
  {
   "cell_type": "markdown",
   "source": [
    "Loading your own word vectors is great to understand how they work, but higher-level libraries that abstract away code like that shown above also exist. In industry, a widely used NLP library is [SpaCy](https://spacy.io/). This library allows you efficiently extract the word embeddings from texts and carry out high-level operations on them.\n",
    "\n",
    "Let's convert the list of vector representations for each review into a DataFrame and split it into train and test sets:"
   ],
   "metadata": {}
  },
  {
   "cell_type": "code",
   "execution_count": null,
   "source": [
    "embedding_data = pd.DataFrame(review_embeddings)\n",
    "embedding_data = embedding_data.fillna(0)"
   ],
   "outputs": [],
   "metadata": {}
  },
  {
   "cell_type": "code",
   "execution_count": null,
   "source": [
    "X_train_embed, X_test_embed, y_train_embed, y_test_embed =  train_test_split(\n",
    "    embedding_data,\n",
    "    amazon_reviews.Sentiment_rating,\n",
    "    test_size=0.2,\n",
    "    random_state=0\n",
    ")"
   ],
   "outputs": [],
   "metadata": {}
  },
  {
   "cell_type": "markdown",
   "source": [
    "Let's now apply logistic regression to our word embeddings representation:"
   ],
   "metadata": {}
  },
  {
   "cell_type": "code",
   "execution_count": null,
   "source": [
    "lr_model = LogisticRegression(penalty=\"l1\", C=10, solver=\"liblinear\")\n",
    "lr_model.fit(X_train_embed, y_train_embed)\n",
    "test_pred_lr_prob = lr_model.predict_proba(X_test_embed)\n",
    "test_pred_lr_all = lr_model.predict(X_test_embed)\n",
    "\n",
    "print(\"F1 score: \", f1_score(y_test_embed, test_pred_lr_all))\n",
    "print(\"Accuracy: \", accuracy_score(y_test_embed, test_pred_lr_all)*100)"
   ],
   "outputs": [],
   "metadata": {}
  },
  {
   "cell_type": "markdown",
   "source": [
    "Unfortunately, this is not as good as either the bag-of-words or TF-IDF representations. Furthermore, although word embeddings was really effective at reducing the overall number of dimensions, it suffers from the problem of interpretability. This means that it is very hard for us to even diagnose what is causing its sub-par performance.\n",
    "\n",
    "However remember how \"good\" and \"bad\" were close together in vector space? This is one reason why word embeddings may not perform as well for sentiment analysis in smaller datasets - word embeddings are good at using \"knowledge\" from the external world (latent in the pre-trained embeddings) to inferr additional information about a smaller dataset, but in the case of sentiment analysis this might do more harm than good by conflating \"similar\" words that are actually very separate for a sentiment analysis task.\n",
    "\n",
    "In our case, creating features using TF-IDF got us an accuracy of 92% with very interpretable features. This is a good combination and so we deem this the best model for us here.\n",
    "\n",
    "Note that for a real experiment, we would have split our dataset into *three* parts, not just two. When running an experiment multiple times with different parameters, it's almost certain that some results will be better simply by chance, and it's bad science to select the best performing model after dozens or hundreds of runs.\n",
    "    \n",
    "To avoid this problem, the data should be split into \"training\", \"test\", and \"validation\" sets. The \"test\" set should be set aside at the start of the experiment and never looked at. The model should be tuned by using the \"validation\" set.\n",
    "\n",
    "Only once the experimenter is happy with the model by improving the performance on the validation set should the model be run on the test set, and those final results taken as the final results of the experiment. \n",
    "\n",
    "You can read more details about this methodology [here](https://en.wikipedia.org/wiki/Training,_validation,_and_test_sets).\n"
   ],
   "metadata": {}
  },
  {
   "cell_type": "markdown",
   "source": [
    "## Conclusions"
   ],
   "metadata": {
    "tags": [
     "5_min"
    ]
   }
  },
  {
   "cell_type": "markdown",
   "source": [
    "In this case, we cleaned up and featurized an Amazon reviews dataset and built some classification models on these featurizations to predict sentiment. We saw that bag-of-words and TF-IDF both gave interpretable features, while word embeddings did not really. Through increasing the set of n-grams we used from 1-grams to up to 4-grams, we were able to get our logistic regression model accuracy up to 92%."
   ],
   "metadata": {}
  },
  {
   "cell_type": "markdown",
   "source": [
    "## Takeaways"
   ],
   "metadata": {
    "tags": [
     "5_min"
    ]
   }
  },
  {
   "cell_type": "markdown",
   "source": [
    "Building machine learning models on text is a very involved discipline. Some important things of note are as follows:\n",
    "\n",
    "1. Although there are different types of pre-processing involved in textual data, not everything has to be applied in each case. For instance, when dealing with text messages, special characters might represent important information and need not be removed. Furthermore, upper case may mean someone is angry and represents shouting, so uppercase and lowercase may represent valuable information. In other situations, it's more valuable to normalize these.\n",
    "\n",
    "2. Hyperparameter tuning in machine learning models is a very important step and while default hyperparameters work well in many cases, extra performance can often be gained through tuning these. Different sets of parameters have to be tried to see what contributes to the best model.\n",
    "\n",
    "3. Every NLP classification task is different, but the process to be followed is similar to what we did in this case: wrangle the data -> create features from text -> train models -> evaluate models."
   ],
   "metadata": {}
  }
 ],
 "metadata": {
  "c1_recart": "7.3.0-57c20131aabc1dc2a8c675852d80a7da",
  "language_info": {
   "name": "python",
   "version": "3.8.5",
   "mimetype": "text/x-python",
   "codemirror_mode": {
    "name": "ipython",
    "version": 3
   },
   "pygments_lexer": "ipython3",
   "nbconvert_exporter": "python",
   "file_extension": ".py"
  },
  "kernelspec": {
   "name": "python3",
   "display_name": "Python 3.8.5 64-bit ('DS4A': conda)"
  },
  "interpreter": {
   "hash": "e55832998f3a8a26e2992baea321569607972aaacc4daf2de44a7713ecd8a64f"
  }
 },
 "nbformat": 4,
 "nbformat_minor": 2
}