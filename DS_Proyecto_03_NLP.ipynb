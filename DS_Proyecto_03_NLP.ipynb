{
  "nbformat": 4,
  "nbformat_minor": 2,
  "metadata": {
    "kernelspec": {
      "name": "python3",
      "display_name": "Python 3.8.5 64-bit ('DataScience': conda)"
    },
    "language_info": {
      "codemirror_mode": {
        "name": "ipython",
        "version": 3
      },
      "file_extension": ".py",
      "mimetype": "text/x-python",
      "name": "python",
      "nbconvert_exporter": "python",
      "pygments_lexer": "ipython3",
      "version": "3.8.5"
    },
    "colab": {
      "name": "DS_Proyecto_03_NLP.ipynb",
      "provenance": [],
      "collapsed_sections": []
    },
    "interpreter": {
      "hash": "fe3d3fe6cf1d26568c39c265eaefa8a75e57b8fd67cb8276f82b25a3c3fb4376"
    }
  },
  "cells": [
    {
      "cell_type": "markdown",
      "source": [
        "# Proyecto 03 - Procesamiento del Lenguaje Natural\r\n",
        "\r\n",
        "## Dataset: The Multilingual Amazon Reviews Corpus\r\n",
        "\r\n",
        "**Recuerda descargar el dataset de [aquí](https://github.com/kang205/SASRec). Es un archivo .zip que contiene tres documentos. Más información sobre el dataset [aquí](https://registry.opendata.aws/amazon-reviews-ml/). Es importante que tengas en cuenta la [licencia](https://docs.opendata.aws/amazon-reviews-ml/license.txt) de este dataset.**\r\n",
        "\r\n",
        "### Exploración de datos y Procesamiento del Lenguaje Natural\r\n",
        "\r\n",
        "Dedícale un buen tiempo a hacer un Análisis Exploratorio de Datos. Considera que hasta que no hayas aplicado las herramientas de Procesamiento del Lenguaje Natural vistas, será difícil completar este análisis. Elige preguntas que creas que puedas responder con este dataset. Por ejemplo, ¿qué palabras están asociadas a calificaciones positivas y qué palabras a calificaciones negativas?\r\n",
        "\r\n",
        "### Machine Learning\r\n",
        "\r\n",
        "Implementa un modelo que, dada la crítica de un producto, asigne la cantidad de estrellas correspondiente. **Para pensar**: ¿es un problema de Clasificación o de Regresión?\r\n",
        "\r\n",
        "1. Haz todas las transformaciones de datos que consideres necesarias. Justifica.\r\n",
        "1. Evalúa de forma apropiada sus resultados. Justifica la métrica elegida.\r\n",
        "1. Elige un modelo benchmark y compara tus resultados con este modelo.\r\n",
        "1. Optimiza los hiperparámetros de tu modelo.\r\n",
        "1. Intenta responder la pregunta: ¿Qué información está usando el modelo para predecir?\r\n",
        "\r\n",
        "**Recomendación:** si no te resulta conveniente trabajar en español con NLTK, te recomendamos que explores la librería [spaCy](https://spacy.io/).\r\n",
        "\r\n",
        "### Para pensar, investigar y, opcionalmente, implementar\r\n",
        "1. ¿Valdrá la pena convertir el problema de Machine Learning en un problema binario? Es decir, asignar únicamente las etiquetas Positiva y Negativa a cada crítica y hacer un modelo que, en lugar de predecir las estrellas, prediga esa etiqueta. Pensar en qué situación puede ser útil. ¿Esperas que el desempeño sea mejor o peor?\r\n",
        "1. ¿Hay algo que te gustaría investigar o probar?\r\n",
        "\r\n",
        "### **¡Tómate tiempo para investigar y leer mucho!**"
      ],
      "metadata": {
        "id": "2GRQnxMzISE_"
      }
    },
    {
      "cell_type": "code",
      "execution_count": 1,
      "source": [
        "import pandas as pd\r\n",
        "import numpy as np \r\n",
        "import prettytable as pt\r\n",
        "\r\n",
        "import matplotlib.pyplot as plt\r\n",
        "import seaborn as sns\r\n",
        "sns.set()\r\n",
        "\r\n",
        "import nltk\r\n",
        "from nltk.corpus import stopwords\r\n",
        "stopwords = set(stopwords.words('spanish'))\r\n",
        "\r\n",
        "nltk.download('universal_tagset')\r\n",
        "\r\n",
        "import warnings\r\n",
        "warnings.filterwarnings('ignore')"
      ],
      "outputs": [
        {
          "output_type": "stream",
          "name": "stderr",
          "text": [
            "[nltk_data] Downloading package universal_tagset to\n",
            "[nltk_data]     C:\\Users\\USER\\AppData\\Roaming\\nltk_data...\n",
            "[nltk_data]   Package universal_tagset is already up-to-date!\n"
          ]
        }
      ],
      "metadata": {}
    },
    {
      "cell_type": "code",
      "execution_count": 2,
      "source": [
        "dev = pd.read_json('dataset_es_dev.json', lines = True)\r\n",
        "test = pd.read_json('dataset_es_test.json', lines = True)\r\n",
        "train = pd.read_json('dataset_es_train.json', lines = True)"
      ],
      "outputs": [],
      "metadata": {}
    },
    {
      "cell_type": "markdown",
      "source": [
        "# Análisis Exploratorio de Datos"
      ],
      "metadata": {
        "id": "x1GFwraSISFB"
      }
    },
    {
      "cell_type": "code",
      "execution_count": 3,
      "source": [
        "cols = pt.PrettyTable()\r\n",
        "cols.add_column('DEV', dev.columns.tolist())\r\n",
        "cols.add_column('TEST', test.columns.tolist())\r\n",
        "cols.add_column('TRAIN', train.columns.tolist())\r\n",
        "print(cols)"
      ],
      "outputs": [
        {
          "output_type": "stream",
          "name": "stdout",
          "text": [
            "+------------------+------------------+------------------+\n",
            "|       DEV        |       TEST       |      TRAIN       |\n",
            "+------------------+------------------+------------------+\n",
            "|    review_id     |    review_id     |    review_id     |\n",
            "|    product_id    |    product_id    |    product_id    |\n",
            "|   reviewer_id    |   reviewer_id    |   reviewer_id    |\n",
            "|      stars       |      stars       |      stars       |\n",
            "|   review_body    |   review_body    |   review_body    |\n",
            "|   review_title   |   review_title   |   review_title   |\n",
            "|     language     |     language     |     language     |\n",
            "| product_category | product_category | product_category |\n",
            "+------------------+------------------+------------------+\n"
          ]
        }
      ],
      "metadata": {}
    },
    {
      "cell_type": "code",
      "execution_count": 4,
      "source": [
        "sizes = pt.PrettyTable()\r\n",
        "sizes.add_column('DEV', dev.shape)\r\n",
        "sizes.add_column('TEST', test.shape)\r\n",
        "sizes.add_column('TRAIN', train.shape)\r\n",
        "print(sizes)"
      ],
      "outputs": [
        {
          "output_type": "stream",
          "name": "stdout",
          "text": [
            "+------+------+--------+\n",
            "| DEV  | TEST | TRAIN  |\n",
            "+------+------+--------+\n",
            "| 5000 | 5000 | 200000 |\n",
            "|  8   |  8   |   8    |\n",
            "+------+------+--------+\n"
          ]
        }
      ],
      "metadata": {}
    },
    {
      "cell_type": "code",
      "execution_count": 5,
      "source": [
        "dev.head()"
      ],
      "outputs": [
        {
          "output_type": "execute_result",
          "data": {
            "text/plain": [
              "    review_id          product_id          reviewer_id  stars  \\\n",
              "0  es_0417480  product_es_0873923  reviewer_es_0672978      1   \n",
              "1  es_0180432  product_es_0713146  reviewer_es_0100858      1   \n",
              "2  es_0144850  product_es_0356874  reviewer_es_0486447      1   \n",
              "3  es_0339629  product_es_0939832  reviewer_es_0894703      1   \n",
              "4  es_0858362  product_es_0489066  reviewer_es_0887663      1   \n",
              "\n",
              "                                         review_body  \\\n",
              "0  Malisimo, muy grande demasiado aparatoso y mal...   \n",
              "1          No he recibido el pedido no la devolución   \n",
              "2  Tengo que buscar otro sistema, este no funcion...   \n",
              "3  Utilicé las brocas de menor diámetro y se me d...   \n",
              "4         No me gusta su olor a viejo y aspecto malo   \n",
              "\n",
              "                         review_title language  product_category  \n",
              "0                         Mala compra       es          wireless  \n",
              "1                   No lo he recibido       es           apparel  \n",
              "2  Que no aprieta bien en el manillar       es            sports  \n",
              "3               Brocas de mantequilla       es  home_improvement  \n",
              "4                         No me gusta       es            beauty  "
            ],
            "text/html": [
              "<div>\n",
              "<style scoped>\n",
              "    .dataframe tbody tr th:only-of-type {\n",
              "        vertical-align: middle;\n",
              "    }\n",
              "\n",
              "    .dataframe tbody tr th {\n",
              "        vertical-align: top;\n",
              "    }\n",
              "\n",
              "    .dataframe thead th {\n",
              "        text-align: right;\n",
              "    }\n",
              "</style>\n",
              "<table border=\"1\" class=\"dataframe\">\n",
              "  <thead>\n",
              "    <tr style=\"text-align: right;\">\n",
              "      <th></th>\n",
              "      <th>review_id</th>\n",
              "      <th>product_id</th>\n",
              "      <th>reviewer_id</th>\n",
              "      <th>stars</th>\n",
              "      <th>review_body</th>\n",
              "      <th>review_title</th>\n",
              "      <th>language</th>\n",
              "      <th>product_category</th>\n",
              "    </tr>\n",
              "  </thead>\n",
              "  <tbody>\n",
              "    <tr>\n",
              "      <th>0</th>\n",
              "      <td>es_0417480</td>\n",
              "      <td>product_es_0873923</td>\n",
              "      <td>reviewer_es_0672978</td>\n",
              "      <td>1</td>\n",
              "      <td>Malisimo, muy grande demasiado aparatoso y mal...</td>\n",
              "      <td>Mala compra</td>\n",
              "      <td>es</td>\n",
              "      <td>wireless</td>\n",
              "    </tr>\n",
              "    <tr>\n",
              "      <th>1</th>\n",
              "      <td>es_0180432</td>\n",
              "      <td>product_es_0713146</td>\n",
              "      <td>reviewer_es_0100858</td>\n",
              "      <td>1</td>\n",
              "      <td>No he recibido el pedido no la devolución</td>\n",
              "      <td>No lo he recibido</td>\n",
              "      <td>es</td>\n",
              "      <td>apparel</td>\n",
              "    </tr>\n",
              "    <tr>\n",
              "      <th>2</th>\n",
              "      <td>es_0144850</td>\n",
              "      <td>product_es_0356874</td>\n",
              "      <td>reviewer_es_0486447</td>\n",
              "      <td>1</td>\n",
              "      <td>Tengo que buscar otro sistema, este no funcion...</td>\n",
              "      <td>Que no aprieta bien en el manillar</td>\n",
              "      <td>es</td>\n",
              "      <td>sports</td>\n",
              "    </tr>\n",
              "    <tr>\n",
              "      <th>3</th>\n",
              "      <td>es_0339629</td>\n",
              "      <td>product_es_0939832</td>\n",
              "      <td>reviewer_es_0894703</td>\n",
              "      <td>1</td>\n",
              "      <td>Utilicé las brocas de menor diámetro y se me d...</td>\n",
              "      <td>Brocas de mantequilla</td>\n",
              "      <td>es</td>\n",
              "      <td>home_improvement</td>\n",
              "    </tr>\n",
              "    <tr>\n",
              "      <th>4</th>\n",
              "      <td>es_0858362</td>\n",
              "      <td>product_es_0489066</td>\n",
              "      <td>reviewer_es_0887663</td>\n",
              "      <td>1</td>\n",
              "      <td>No me gusta su olor a viejo y aspecto malo</td>\n",
              "      <td>No me gusta</td>\n",
              "      <td>es</td>\n",
              "      <td>beauty</td>\n",
              "    </tr>\n",
              "  </tbody>\n",
              "</table>\n",
              "</div>"
            ]
          },
          "metadata": {},
          "execution_count": 5
        }
      ],
      "metadata": {}
    },
    {
      "cell_type": "code",
      "execution_count": 6,
      "source": [
        "dev.review_body = dev.review_body.apply(lambda x: x.lower())\r\n",
        "dev.review_title = dev.review_title.apply(lambda x: x.lower())"
      ],
      "outputs": [],
      "metadata": {}
    },
    {
      "cell_type": "code",
      "execution_count": 9,
      "source": [
        "# Numero de palabras en el review\r\n",
        "words_per_review = dev.review_body.apply(lambda x: len(x.split(\" \")))\r\n",
        "words_per_review.hist(bins = 50)"
      ],
      "outputs": [
        {
          "output_type": "execute_result",
          "data": {
            "text/plain": [
              "<AxesSubplot:>"
            ]
          },
          "metadata": {},
          "execution_count": 9
        },
        {
          "output_type": "display_data",
          "data": {
            "text/plain": [
              "<Figure size 432x288 with 1 Axes>"
            ],
            "image/png": "[encoded data removed]"
          },
          "metadata": {}
        }
      ],
      "metadata": {}
    },
    {
      "cell_type": "code",
      "execution_count": 10,
      "source": [
        "words_per_review.mean()"
      ],
      "outputs": [
        {
          "output_type": "execute_result",
          "data": {
            "text/plain": [
              "27.572"
            ]
          },
          "metadata": {},
          "execution_count": 10
        }
      ],
      "metadata": {}
    },
    {
      "cell_type": "code",
      "execution_count": 13,
      "source": [
        "dev.stars.value_counts()\r\n",
        "#perfectly balanced as all things should be"
      ],
      "outputs": [
        {
          "output_type": "execute_result",
          "data": {
            "text/plain": [
              "4    1000\n",
              "1    1000\n",
              "5    1000\n",
              "2    1000\n",
              "3    1000\n",
              "Name: stars, dtype: int64"
            ]
          },
          "metadata": {},
          "execution_count": 13
        }
      ],
      "metadata": {}
    },
    {
      "cell_type": "code",
      "execution_count": 14,
      "source": [
        "dev['binario'] = np.where(dev.stars > 3, 1, 0)\r\n",
        "dev['binario'].value_counts()"
      ],
      "outputs": [
        {
          "output_type": "execute_result",
          "data": {
            "text/plain": [
              "0    3000\n",
              "1    2000\n",
              "Name: binario, dtype: int64"
            ]
          },
          "metadata": {},
          "execution_count": 14
        }
      ],
      "metadata": {}
    },
    {
      "cell_type": "code",
      "execution_count": null,
      "source": [
        "# Removing neutral reviews \r\n",
        "# amazon_reviews = amazon_reviews[amazon_reviews.Score != 3]"
      ],
      "outputs": [],
      "metadata": {}
    },
    {
      "cell_type": "code",
      "execution_count": 18,
      "source": [
        "def tokenizar(df):\r\n",
        "\r\n",
        "\tnew_df = df[['review_id','stars','review_body','review_title']]\r\n",
        "\r\n",
        "\tnew_df['body_token'] = new_df.review_body.apply(lambda x: nltk.tokenize.word_tokenize(x))\r\n",
        "\tnew_df['title_token'] = new_df.review_title.apply(lambda x: nltk.tokenize.word_tokenize(x))\r\n",
        "\r\n",
        "\tcharacters = [',', '.', '!', '¡', '?', '¿' , '@', '...']\r\n",
        "\r\n",
        "\tfor column in ['body_token', 'title_token']:\r\n",
        "\t\tfor i in range(len(new_df.body_token)):\r\n",
        "\t\t\tnew_df[column][i] = [word for word in new_df[column][i] if word not in characters]\r\n",
        "\t\t\tnew_df[column][i] = [word for word in new_df[column][i] if word not in stopwords]\r\n",
        "\r\n",
        "\treturn new_df"
      ],
      "outputs": [],
      "metadata": {}
    },
    {
      "cell_type": "code",
      "execution_count": 51,
      "source": [
        "dev_token = tokenizar(dev)\r\n",
        "#test_token = tokenizar(test)\r\n",
        "#train_token = tokenizar(train)"
      ],
      "outputs": [],
      "metadata": {}
    },
    {
      "cell_type": "code",
      "execution_count": 59,
      "source": [
        "dev_token.head(3)"
      ],
      "outputs": [
        {
          "output_type": "execute_result",
          "data": {
            "text/plain": [
              "    review_id  stars                                        review_body  \\\n",
              "0  es_0417480      1  malisimo, muy grande demasiado aparatoso y mal...   \n",
              "1  es_0180432      1          no he recibido el pedido no la devolución   \n",
              "2  es_0144850      1  tengo que buscar otro sistema, este no funcion...   \n",
              "\n",
              "                         review_title  \\\n",
              "0                         mala compra   \n",
              "1                   no lo he recibido   \n",
              "2  que no aprieta bien en el manillar   \n",
              "\n",
              "                                          body_token  \\\n",
              "0  [malisimo, grande, demasiado, aparatoso, mal, ...   \n",
              "1                     [recibido, pedido, devolución]   \n",
              "2  [buscar, sistema, funciona, bien, abrazadera, ...   \n",
              "\n",
              "                 title_token  \\\n",
              "0             [mala, compra]   \n",
              "1                 [recibido]   \n",
              "2  [aprieta, bien, manillar]   \n",
              "\n",
              "                                          body_lemma  \n",
              "0  [malisimo, grande, demasiado, aparatoso, mal, ...  \n",
              "1                     [recibido, pedido, devolución]  \n",
              "2  [buscar, sistema, funcionar, bien, abrazaderar...  "
            ],
            "text/html": [
              "<div>\n",
              "<style scoped>\n",
              "    .dataframe tbody tr th:only-of-type {\n",
              "        vertical-align: middle;\n",
              "    }\n",
              "\n",
              "    .dataframe tbody tr th {\n",
              "        vertical-align: top;\n",
              "    }\n",
              "\n",
              "    .dataframe thead th {\n",
              "        text-align: right;\n",
              "    }\n",
              "</style>\n",
              "<table border=\"1\" class=\"dataframe\">\n",
              "  <thead>\n",
              "    <tr style=\"text-align: right;\">\n",
              "      <th></th>\n",
              "      <th>review_id</th>\n",
              "      <th>stars</th>\n",
              "      <th>review_body</th>\n",
              "      <th>review_title</th>\n",
              "      <th>body_token</th>\n",
              "      <th>title_token</th>\n",
              "      <th>body_lemma</th>\n",
              "    </tr>\n",
              "  </thead>\n",
              "  <tbody>\n",
              "    <tr>\n",
              "      <th>0</th>\n",
              "      <td>es_0417480</td>\n",
              "      <td>1</td>\n",
              "      <td>malisimo, muy grande demasiado aparatoso y mal...</td>\n",
              "      <td>mala compra</td>\n",
              "      <td>[malisimo, grande, demasiado, aparatoso, mal, ...</td>\n",
              "      <td>[mala, compra]</td>\n",
              "      <td>[malisimo, grande, demasiado, aparatoso, mal, ...</td>\n",
              "    </tr>\n",
              "    <tr>\n",
              "      <th>1</th>\n",
              "      <td>es_0180432</td>\n",
              "      <td>1</td>\n",
              "      <td>no he recibido el pedido no la devolución</td>\n",
              "      <td>no lo he recibido</td>\n",
              "      <td>[recibido, pedido, devolución]</td>\n",
              "      <td>[recibido]</td>\n",
              "      <td>[recibido, pedido, devolución]</td>\n",
              "    </tr>\n",
              "    <tr>\n",
              "      <th>2</th>\n",
              "      <td>es_0144850</td>\n",
              "      <td>1</td>\n",
              "      <td>tengo que buscar otro sistema, este no funcion...</td>\n",
              "      <td>que no aprieta bien en el manillar</td>\n",
              "      <td>[buscar, sistema, funciona, bien, abrazadera, ...</td>\n",
              "      <td>[aprieta, bien, manillar]</td>\n",
              "      <td>[buscar, sistema, funcionar, bien, abrazaderar...</td>\n",
              "    </tr>\n",
              "  </tbody>\n",
              "</table>\n",
              "</div>"
            ]
          },
          "metadata": {},
          "execution_count": 59
        }
      ],
      "metadata": {}
    },
    {
      "cell_type": "code",
      "execution_count": 42,
      "source": [
        "import spacy\r\n",
        "\r\n",
        "spacy.prefer_gpu()\r\n",
        "nlp = spacy.load(\"es_core_news_sm\")"
      ],
      "outputs": [],
      "metadata": {}
    },
    {
      "cell_type": "code",
      "execution_count": 45,
      "source": [
        "doc = nlp('como funciona y esta monda')\r\n",
        "for token in doc:\r\n",
        "    print(token, token.text, token.pos_, token.lemma_)"
      ],
      "outputs": [
        {
          "output_type": "stream",
          "name": "stdout",
          "text": [
            "como como SCONJ como\n",
            "funciona funciona NOUN funciona\n",
            "y y CCONJ y\n",
            "esta esta DET este\n",
            "monda monda NOUN monda\n"
          ]
        }
      ],
      "metadata": {}
    },
    {
      "cell_type": "code",
      "execution_count": 58,
      "source": [
        "dev_token['body_lemma'] = dev_token.body_token.apply(lambda x: ' '.join(x))\r\n",
        "dev_token['body_lemma'] = dev_token.body_lemma.apply(lambda y: [token.lemma_ for token in nlp(y)])"
      ],
      "outputs": [],
      "metadata": {}
    },
    {
      "cell_type": "code",
      "execution_count": 61,
      "source": [
        "dev_token['title_lemma'] = dev_token.title_token.apply(lambda x: ' '.join(x))\r\n",
        "dev_token['title_lemma'] = dev_token.title_lemma.apply(lambda y: [token.lemma_ for token in nlp(y)])"
      ],
      "outputs": [],
      "metadata": {}
    },
    {
      "cell_type": "code",
      "execution_count": 30,
      "source": [
        "#from nltk.stem import WordNetLemmatizer \r\n",
        "#wordnet_lemmatizer = WordNetLemmatizer() \r\n",
        "#wordnet_lemmatizer.lemmatize()\r\n",
        "#get_wordnet_pos(palabra) "
      ],
      "outputs": [],
      "metadata": {}
    },
    {
      "cell_type": "code",
      "execution_count": null,
      "source": [
        "#from nltk.corpus import wordnet\r\n",
        "\r\n",
        "#def get_wordnet_pos(word):\r\n",
        " #   \"\"\"Map POS tag to first character lemmatize() accepts\"\"\"\r\n",
        "  #  tag = nltk.pos_tag([word])[0][1][0].upper()\r\n",
        "   # tag_dict = {\"J\": wordnet.ADJ,\r\n",
        "    #            \"N\": wordnet.NOUN,\r\n",
        "     #           \"V\": wordnet.VERB,\r\n",
        "      #          \"R\": wordnet.ADV}\r\n",
        "\r\n",
        "    #return tag_dict.get(tag, wordnet.NOUN)\r\n"
      ],
      "outputs": [],
      "metadata": {}
    },
    {
      "cell_type": "code",
      "execution_count": 21,
      "source": [
        "#nltk.pos_tag(['recibido'], tagset='universal')"
      ],
      "outputs": [
        {
          "output_type": "execute_result",
          "data": {
            "text/plain": [
              "[('recibido', 'NOUN')]"
            ]
          },
          "metadata": {},
          "execution_count": 21
        }
      ],
      "metadata": {}
    },
    {
      "cell_type": "code",
      "execution_count": 54,
      "source": [
        "#dev_token.body_token = dev_token.body_token.apply(lambda x: [stemmer.stem(each_string) for each_string in x])\r\n",
        "#dev_token.title_token = dev_token.title_token.apply(lambda x: [stemmer.stem(each_string) for each_string in x])"
      ],
      "outputs": [],
      "metadata": {}
    },
    {
      "cell_type": "code",
      "execution_count": null,
      "source": [
        "#from nltk.stem import SnowballStemmer\r\n",
        "#stemmer = SnowballStemmer(\"spanish\") # Choose a language\r\n",
        "#stemmer.stem()"
      ],
      "outputs": [],
      "metadata": {}
    },
    {
      "cell_type": "code",
      "execution_count": 62,
      "source": [
        "def get_freqs(df):\r\n",
        "\r\n",
        "\t# Separamos las reseñas malas de las buenas\r\n",
        "\tdf_malos = df.loc[df.stars.isin([1,2,3])]\r\n",
        "\tdf_buenos = df.loc[df.stars.isin([4,5])]\r\n",
        "\r\n",
        "\tdf_malos.reset_index(inplace= True)\r\n",
        "\tdf_buenos.reset_index(inplace= True)\r\n",
        "\r\n",
        "\t# Guardamos todos los titulos y reseñas buenos y malos en listas separadas\r\n",
        "\tdf_malos_titulos = []\r\n",
        "\tdf_malos_reviews = []\r\n",
        "\tfor i in range(len(df_malos.review_title)):\r\n",
        "\t\tdf_malos_titulos.append(df_malos.title_lemma[i])\r\n",
        "\t\tdf_malos_reviews.append(df_malos.body_lemma[i])\r\n",
        "\tdf_malos_titulos = [item for elem in df_malos_titulos for item in elem]\r\n",
        "\tdf_malos_reviews = [item for elem in df_malos_reviews for item in elem]\r\n",
        "\r\n",
        "\tdf_buenos_titulos = []\r\n",
        "\tdf_buenos_reviews = []\r\n",
        "\tfor i in range(len(df_buenos.review_title)):\r\n",
        "\t\tdf_buenos_titulos.append(df_buenos.title_lemma[i])\r\n",
        "\t\tdf_buenos_reviews.append(df_buenos.body_lemma[i])\r\n",
        "\tdf_buenos_titulos = [item for elem in df_buenos_titulos for item in elem]\r\n",
        "\tdf_buenos_reviews = [item for elem in df_buenos_reviews for item in elem]\r\n",
        "\r\n",
        "\t# Hacemos 4 dataframes con las frecuencias de las palabras\r\n",
        "\tdf_malos_titulos_freq = pd.DataFrame.from_dict(nltk.FreqDist(df_malos_titulos), orient = 'index')\r\n",
        "\tdf_malos_titulos_freq['word'] = df_malos_titulos_freq.index\r\n",
        "\tdf_malos_titulos_freq.sort_values(by = 0, ascending= False, inplace = True)\r\n",
        "\r\n",
        "\tdf_malos_reviews_freq = pd.DataFrame.from_dict(nltk.FreqDist(df_malos_reviews), orient = 'index')\r\n",
        "\tdf_malos_reviews_freq['word'] = df_malos_reviews_freq.index\r\n",
        "\tdf_malos_reviews_freq.sort_values(by = 0, ascending= False, inplace = True)\r\n",
        "\r\n",
        "\tdf_buenos_titulos_freq = pd.DataFrame.from_dict(nltk.FreqDist(df_buenos_titulos), orient = 'index')\r\n",
        "\tdf_buenos_titulos_freq['word'] = df_buenos_titulos_freq.index\r\n",
        "\tdf_buenos_titulos_freq.sort_values(by = 0, ascending= False, inplace = True)\r\n",
        "\t\r\n",
        "\tdf_buenos_reviews_freq = pd.DataFrame.from_dict(nltk.FreqDist(df_buenos_reviews), orient = 'index')\r\n",
        "\tdf_buenos_reviews_freq['word'] = df_buenos_reviews_freq.index\r\n",
        "\tdf_buenos_reviews_freq.sort_values(by = 0, ascending= False, inplace = True)\r\n",
        "\r\n",
        "\treturn df_malos_titulos_freq, df_malos_reviews_freq, df_buenos_titulos_freq, df_buenos_reviews_freq"
      ],
      "outputs": [],
      "metadata": {}
    },
    {
      "cell_type": "code",
      "execution_count": 63,
      "source": [
        "dev_mal_tit, dev_mal_rev, dev_buen_tit, dev_buen_rev = get_freqs(dev_token)"
      ],
      "outputs": [],
      "metadata": {}
    },
    {
      "cell_type": "code",
      "execution_count": 60,
      "source": [
        "#dev_token.loc[(dev_token.title_token.apply(lambda x: 'calid' in x))]"
      ],
      "outputs": [],
      "metadata": {}
    },
    {
      "cell_type": "code",
      "execution_count": 64,
      "source": [
        "plt.figure(figsize= (12,12))\r\n",
        "plt.suptitle('Palabras más Frecuentes, Dev Data')\r\n",
        "\r\n",
        "plt.subplot(221)\r\n",
        "sns.barplot(x = dev_mal_tit[0][:10], y = dev_mal_tit.word[:10])\r\n",
        "plt.title('Titulo Negativo')\r\n",
        "\r\n",
        "plt.subplot(222)\r\n",
        "sns.barplot(x = dev_mal_rev[0][:10], y = dev_mal_rev.word[:10])\r\n",
        "plt.title('Review Negativo')\r\n",
        "\r\n",
        "plt.subplot(223)\r\n",
        "sns.barplot(x = dev_buen_tit[0][:10], y = dev_buen_tit.word[:10])\r\n",
        "plt.title('Titulo Positivo')\r\n",
        "\r\n",
        "plt.subplot(224)\r\n",
        "sns.barplot(x = dev_buen_rev[0][:10], y = dev_buen_rev.word[:10])\r\n",
        "plt.title('Review Positivo')\r\n",
        "\r\n",
        "plt.tight_layout();"
      ],
      "outputs": [
        {
          "output_type": "display_data",
          "data": {
            "text/plain": [
              "<Figure size 864x864 with 4 Axes>"
            ],
            "image/png": "[encoded data removed]"
          },
          "metadata": {}
        }
      ],
      "metadata": {}
    }
  ]
}