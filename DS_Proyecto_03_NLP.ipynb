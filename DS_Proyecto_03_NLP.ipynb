{
  "nbformat": 4,
  "nbformat_minor": 0,
  "metadata": {
    "kernelspec": {
      "display_name": "Python 3",
      "language": "python",
      "name": "python3"
    },
    "language_info": {
      "codemirror_mode": {
        "name": "ipython",
        "version": 3
      },
      "file_extension": ".py",
      "mimetype": "text/x-python",
      "name": "python",
      "nbconvert_exporter": "python",
      "pygments_lexer": "ipython3",
      "version": "3.8.2"
    },
    "colab": {
      "name": "DS_Proyecto_03_NLP.ipynb",
      "provenance": [],
      "collapsed_sections": []
    }
  },
  "cells": [
    {
      "cell_type": "markdown",
      "metadata": {
        "id": "2GRQnxMzISE_"
      },
      "source": [
        "# Proyecto 03 - Procesamiento del Lenguaje Natural\n",
        "\n",
        "## Dataset: The Multilingual Amazon Reviews Corpus\n",
        "\n",
        "**Recuerda descargar el dataset de [aquí](https://github.com/kang205/SASRec). Es un archivo .zip que contiene tres documentos. Más información sobre el dataset [aquí](https://registry.opendata.aws/amazon-reviews-ml/). Es importante que tengas en cuenta la [licencia](https://docs.opendata.aws/amazon-reviews-ml/license.txt) de este dataset.**\n",
        "\n",
        "### Exploración de datos y Procesamiento del Lenguaje Natural\n",
        "\n",
        "Dedícale un buen tiempo a hacer un Análisis Exploratorio de Datos. Considera que hasta que no hayas aplicado las herramientas de Procesamiento del Lenguaje Natural vistas, será difícil completar este análisis. Elige preguntas que creas que puedas responder con este dataset. Por ejemplo, ¿qué palabras están asociadas a calificaciones positivas y qué palabras a calificaciones negativas?\n",
        "\n",
        "### Machine Learning\n",
        "\n",
        "Implementa un modelo que, dada la crítica de un producto, asigne la cantidad de estrellas correspondiente. **Para pensar**: ¿es un problema de Clasificación o de Regresión?\n",
        "\n",
        "1. Haz todas las transformaciones de datos que consideres necesarias. Justifica.\n",
        "1. Evalúa de forma apropiada sus resultados. Justifica la métrica elegida.\n",
        "1. Elige un modelo benchmark y compara tus resultados con este modelo.\n",
        "1. Optimiza los hiperparámetros de tu modelo.\n",
        "1. Intenta responder la pregunta: ¿Qué información está usando el modelo para predecir?\n",
        "\n",
        "**Recomendación:** si no te resulta conveniente trabajar en español con NLTK, te recomendamos que explores la librería [spaCy](https://spacy.io/).\n",
        "\n",
        "### Para pensar, investigar y, opcionalmente, implementar\n",
        "1. ¿Valdrá la pena convertir el problema de Machine Learning en un problema binario? Es decir, asignar únicamente las etiquetas Positiva y Negativa a cada crítica y hacer un modelo que, en lugar de predecir las estrellas, prediga esa etiqueta. Pensar en qué situación puede ser útil. ¿Esperas que el desempeño sea mejor o peor?\n",
        "1. ¿Hay algo que te gustaría investigar o probar?\n",
        "\n",
        "### **¡Tómate tiempo para investigar y leer mucho!**"
      ]
    },
    {
      "cell_type": "code",
      "metadata": {
        "id": "x1GFwraSISFB"
      },
      "source": [
        ""
      ],
      "execution_count": null,
      "outputs": []
    }
  ]
}